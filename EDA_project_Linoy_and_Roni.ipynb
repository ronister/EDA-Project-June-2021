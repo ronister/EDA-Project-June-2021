{
  "nbformat": 4,
  "nbformat_minor": 0,
  "metadata": {
    "colab": {
      "name": "EDA_project_Linoy_and_Roni.ipynb",
      "provenance": [],
      "collapsed_sections": []
    },
    "kernelspec": {
      "name": "python3",
      "display_name": "Python 3"
    },
    "language_info": {
      "name": "python"
    },
    "widgets": {
      "application/vnd.jupyter.widget-state+json": {
        "57f68f9dd5d0418f963e08faac0727ed": {
          "model_module": "@jupyter-widgets/controls",
          "model_name": "HBoxModel",
          "state": {
            "_view_name": "HBoxView",
            "_dom_classes": [],
            "_model_name": "HBoxModel",
            "_view_module": "@jupyter-widgets/controls",
            "_model_module_version": "1.5.0",
            "_view_count": null,
            "_view_module_version": "1.5.0",
            "box_style": "",
            "layout": "IPY_MODEL_306ae13e6c8a464f86609f7e12f07e87",
            "_model_module": "@jupyter-widgets/controls",
            "children": [
              "IPY_MODEL_b4e998d49f72487fa4ac6aa8997542d0",
              "IPY_MODEL_9e0e5eeda02c41b6ae7b5cf97874f76d",
              "IPY_MODEL_b090979521eb4c59a9a300bc39ed1d4a"
            ]
          }
        },
        "306ae13e6c8a464f86609f7e12f07e87": {
          "model_module": "@jupyter-widgets/base",
          "model_name": "LayoutModel",
          "state": {
            "_view_name": "LayoutView",
            "grid_template_rows": null,
            "right": null,
            "justify_content": null,
            "_view_module": "@jupyter-widgets/base",
            "overflow": null,
            "_model_module_version": "1.2.0",
            "_view_count": null,
            "flex_flow": null,
            "width": null,
            "min_width": null,
            "border": null,
            "align_items": null,
            "bottom": null,
            "_model_module": "@jupyter-widgets/base",
            "top": null,
            "grid_column": null,
            "overflow_y": null,
            "overflow_x": null,
            "grid_auto_flow": null,
            "grid_area": null,
            "grid_template_columns": null,
            "flex": null,
            "_model_name": "LayoutModel",
            "justify_items": null,
            "grid_row": null,
            "max_height": null,
            "align_content": null,
            "visibility": null,
            "align_self": null,
            "height": null,
            "min_height": null,
            "padding": null,
            "grid_auto_rows": null,
            "grid_gap": null,
            "max_width": null,
            "order": null,
            "_view_module_version": "1.2.0",
            "grid_template_areas": null,
            "object_position": null,
            "object_fit": null,
            "grid_auto_columns": null,
            "margin": null,
            "display": null,
            "left": null
          }
        },
        "b4e998d49f72487fa4ac6aa8997542d0": {
          "model_module": "@jupyter-widgets/controls",
          "model_name": "HTMLModel",
          "state": {
            "_view_name": "HTMLView",
            "style": "IPY_MODEL_08e0b759ddfa4762a7eb70aff64b7e4d",
            "_dom_classes": [],
            "description": "",
            "_model_name": "HTMLModel",
            "placeholder": "​",
            "_view_module": "@jupyter-widgets/controls",
            "_model_module_version": "1.5.0",
            "value": "Summarize dataset: ",
            "_view_count": null,
            "_view_module_version": "1.5.0",
            "description_tooltip": null,
            "_model_module": "@jupyter-widgets/controls",
            "layout": "IPY_MODEL_3c4b5bc8fdd04ba9bd4d656add374825"
          }
        },
        "9e0e5eeda02c41b6ae7b5cf97874f76d": {
          "model_module": "@jupyter-widgets/controls",
          "model_name": "FloatProgressModel",
          "state": {
            "_view_name": "ProgressView",
            "style": "IPY_MODEL_db5e473ccd804651bda350344119bd5b",
            "_dom_classes": [],
            "description": "",
            "_model_name": "FloatProgressModel",
            "bar_style": "success",
            "max": 19,
            "_view_module": "@jupyter-widgets/controls",
            "_model_module_version": "1.5.0",
            "value": 19,
            "_view_count": null,
            "_view_module_version": "1.5.0",
            "orientation": "horizontal",
            "min": 0,
            "description_tooltip": null,
            "_model_module": "@jupyter-widgets/controls",
            "layout": "IPY_MODEL_37604c2a3ca547678da582d9177e762d"
          }
        },
        "b090979521eb4c59a9a300bc39ed1d4a": {
          "model_module": "@jupyter-widgets/controls",
          "model_name": "HTMLModel",
          "state": {
            "_view_name": "HTMLView",
            "style": "IPY_MODEL_557b1e222ab34efaacdae70e9a01f461",
            "_dom_classes": [],
            "description": "",
            "_model_name": "HTMLModel",
            "placeholder": "​",
            "_view_module": "@jupyter-widgets/controls",
            "_model_module_version": "1.5.0",
            "value": " 21/? [00:06&lt;00:00,  2.34it/s, Completed]",
            "_view_count": null,
            "_view_module_version": "1.5.0",
            "description_tooltip": null,
            "_model_module": "@jupyter-widgets/controls",
            "layout": "IPY_MODEL_69f2ac11f9f043f6a76dcdcf4ec27232"
          }
        },
        "08e0b759ddfa4762a7eb70aff64b7e4d": {
          "model_module": "@jupyter-widgets/controls",
          "model_name": "DescriptionStyleModel",
          "state": {
            "_view_name": "StyleView",
            "_model_name": "DescriptionStyleModel",
            "description_width": "",
            "_view_module": "@jupyter-widgets/base",
            "_model_module_version": "1.5.0",
            "_view_count": null,
            "_view_module_version": "1.2.0",
            "_model_module": "@jupyter-widgets/controls"
          }
        },
        "3c4b5bc8fdd04ba9bd4d656add374825": {
          "model_module": "@jupyter-widgets/base",
          "model_name": "LayoutModel",
          "state": {
            "_view_name": "LayoutView",
            "grid_template_rows": null,
            "right": null,
            "justify_content": null,
            "_view_module": "@jupyter-widgets/base",
            "overflow": null,
            "_model_module_version": "1.2.0",
            "_view_count": null,
            "flex_flow": null,
            "width": null,
            "min_width": null,
            "border": null,
            "align_items": null,
            "bottom": null,
            "_model_module": "@jupyter-widgets/base",
            "top": null,
            "grid_column": null,
            "overflow_y": null,
            "overflow_x": null,
            "grid_auto_flow": null,
            "grid_area": null,
            "grid_template_columns": null,
            "flex": null,
            "_model_name": "LayoutModel",
            "justify_items": null,
            "grid_row": null,
            "max_height": null,
            "align_content": null,
            "visibility": null,
            "align_self": null,
            "height": null,
            "min_height": null,
            "padding": null,
            "grid_auto_rows": null,
            "grid_gap": null,
            "max_width": null,
            "order": null,
            "_view_module_version": "1.2.0",
            "grid_template_areas": null,
            "object_position": null,
            "object_fit": null,
            "grid_auto_columns": null,
            "margin": null,
            "display": null,
            "left": null
          }
        },
        "db5e473ccd804651bda350344119bd5b": {
          "model_module": "@jupyter-widgets/controls",
          "model_name": "ProgressStyleModel",
          "state": {
            "_view_name": "StyleView",
            "_model_name": "ProgressStyleModel",
            "description_width": "",
            "_view_module": "@jupyter-widgets/base",
            "_model_module_version": "1.5.0",
            "_view_count": null,
            "_view_module_version": "1.2.0",
            "bar_color": null,
            "_model_module": "@jupyter-widgets/controls"
          }
        },
        "37604c2a3ca547678da582d9177e762d": {
          "model_module": "@jupyter-widgets/base",
          "model_name": "LayoutModel",
          "state": {
            "_view_name": "LayoutView",
            "grid_template_rows": null,
            "right": null,
            "justify_content": null,
            "_view_module": "@jupyter-widgets/base",
            "overflow": null,
            "_model_module_version": "1.2.0",
            "_view_count": null,
            "flex_flow": null,
            "width": null,
            "min_width": null,
            "border": null,
            "align_items": null,
            "bottom": null,
            "_model_module": "@jupyter-widgets/base",
            "top": null,
            "grid_column": null,
            "overflow_y": null,
            "overflow_x": null,
            "grid_auto_flow": null,
            "grid_area": null,
            "grid_template_columns": null,
            "flex": null,
            "_model_name": "LayoutModel",
            "justify_items": null,
            "grid_row": null,
            "max_height": null,
            "align_content": null,
            "visibility": null,
            "align_self": null,
            "height": null,
            "min_height": null,
            "padding": null,
            "grid_auto_rows": null,
            "grid_gap": null,
            "max_width": null,
            "order": null,
            "_view_module_version": "1.2.0",
            "grid_template_areas": null,
            "object_position": null,
            "object_fit": null,
            "grid_auto_columns": null,
            "margin": null,
            "display": null,
            "left": null
          }
        },
        "557b1e222ab34efaacdae70e9a01f461": {
          "model_module": "@jupyter-widgets/controls",
          "model_name": "DescriptionStyleModel",
          "state": {
            "_view_name": "StyleView",
            "_model_name": "DescriptionStyleModel",
            "description_width": "",
            "_view_module": "@jupyter-widgets/base",
            "_model_module_version": "1.5.0",
            "_view_count": null,
            "_view_module_version": "1.2.0",
            "_model_module": "@jupyter-widgets/controls"
          }
        },
        "69f2ac11f9f043f6a76dcdcf4ec27232": {
          "model_module": "@jupyter-widgets/base",
          "model_name": "LayoutModel",
          "state": {
            "_view_name": "LayoutView",
            "grid_template_rows": null,
            "right": null,
            "justify_content": null,
            "_view_module": "@jupyter-widgets/base",
            "overflow": null,
            "_model_module_version": "1.2.0",
            "_view_count": null,
            "flex_flow": null,
            "width": null,
            "min_width": null,
            "border": null,
            "align_items": null,
            "bottom": null,
            "_model_module": "@jupyter-widgets/base",
            "top": null,
            "grid_column": null,
            "overflow_y": null,
            "overflow_x": null,
            "grid_auto_flow": null,
            "grid_area": null,
            "grid_template_columns": null,
            "flex": null,
            "_model_name": "LayoutModel",
            "justify_items": null,
            "grid_row": null,
            "max_height": null,
            "align_content": null,
            "visibility": null,
            "align_self": null,
            "height": null,
            "min_height": null,
            "padding": null,
            "grid_auto_rows": null,
            "grid_gap": null,
            "max_width": null,
            "order": null,
            "_view_module_version": "1.2.0",
            "grid_template_areas": null,
            "object_position": null,
            "object_fit": null,
            "grid_auto_columns": null,
            "margin": null,
            "display": null,
            "left": null
          }
        },
        "eac855ca5a3b4678b45f6491553d0e75": {
          "model_module": "@jupyter-widgets/controls",
          "model_name": "HBoxModel",
          "state": {
            "_view_name": "HBoxView",
            "_dom_classes": [],
            "_model_name": "HBoxModel",
            "_view_module": "@jupyter-widgets/controls",
            "_model_module_version": "1.5.0",
            "_view_count": null,
            "_view_module_version": "1.5.0",
            "box_style": "",
            "layout": "IPY_MODEL_de52958f9b1147e7b06b2a7a77526795",
            "_model_module": "@jupyter-widgets/controls",
            "children": [
              "IPY_MODEL_61b8e764ef3d49bab1e1dcceca32a963",
              "IPY_MODEL_f53598373acf480cbbdc28b5d99e6b24",
              "IPY_MODEL_13b1551e47ea4edf80596d714990590b"
            ]
          }
        },
        "de52958f9b1147e7b06b2a7a77526795": {
          "model_module": "@jupyter-widgets/base",
          "model_name": "LayoutModel",
          "state": {
            "_view_name": "LayoutView",
            "grid_template_rows": null,
            "right": null,
            "justify_content": null,
            "_view_module": "@jupyter-widgets/base",
            "overflow": null,
            "_model_module_version": "1.2.0",
            "_view_count": null,
            "flex_flow": null,
            "width": null,
            "min_width": null,
            "border": null,
            "align_items": null,
            "bottom": null,
            "_model_module": "@jupyter-widgets/base",
            "top": null,
            "grid_column": null,
            "overflow_y": null,
            "overflow_x": null,
            "grid_auto_flow": null,
            "grid_area": null,
            "grid_template_columns": null,
            "flex": null,
            "_model_name": "LayoutModel",
            "justify_items": null,
            "grid_row": null,
            "max_height": null,
            "align_content": null,
            "visibility": null,
            "align_self": null,
            "height": null,
            "min_height": null,
            "padding": null,
            "grid_auto_rows": null,
            "grid_gap": null,
            "max_width": null,
            "order": null,
            "_view_module_version": "1.2.0",
            "grid_template_areas": null,
            "object_position": null,
            "object_fit": null,
            "grid_auto_columns": null,
            "margin": null,
            "display": null,
            "left": null
          }
        },
        "61b8e764ef3d49bab1e1dcceca32a963": {
          "model_module": "@jupyter-widgets/controls",
          "model_name": "HTMLModel",
          "state": {
            "_view_name": "HTMLView",
            "style": "IPY_MODEL_6d4154b6c48e4b79a592fe644b3e1685",
            "_dom_classes": [],
            "description": "",
            "_model_name": "HTMLModel",
            "placeholder": "​",
            "_view_module": "@jupyter-widgets/controls",
            "_model_module_version": "1.5.0",
            "value": "Generate report structure: 100%",
            "_view_count": null,
            "_view_module_version": "1.5.0",
            "description_tooltip": null,
            "_model_module": "@jupyter-widgets/controls",
            "layout": "IPY_MODEL_e5901e2fcf5e43c5ba22b10215fff2c4"
          }
        },
        "f53598373acf480cbbdc28b5d99e6b24": {
          "model_module": "@jupyter-widgets/controls",
          "model_name": "FloatProgressModel",
          "state": {
            "_view_name": "ProgressView",
            "style": "IPY_MODEL_43527a2539ab43ac9a4cb70ebff12c12",
            "_dom_classes": [],
            "description": "",
            "_model_name": "FloatProgressModel",
            "bar_style": "success",
            "max": 1,
            "_view_module": "@jupyter-widgets/controls",
            "_model_module_version": "1.5.0",
            "value": 1,
            "_view_count": null,
            "_view_module_version": "1.5.0",
            "orientation": "horizontal",
            "min": 0,
            "description_tooltip": null,
            "_model_module": "@jupyter-widgets/controls",
            "layout": "IPY_MODEL_a27b387bfaa24cbb86da545266225df5"
          }
        },
        "13b1551e47ea4edf80596d714990590b": {
          "model_module": "@jupyter-widgets/controls",
          "model_name": "HTMLModel",
          "state": {
            "_view_name": "HTMLView",
            "style": "IPY_MODEL_d9115cfb81404b53897ebb4ccf6d7e27",
            "_dom_classes": [],
            "description": "",
            "_model_name": "HTMLModel",
            "placeholder": "​",
            "_view_module": "@jupyter-widgets/controls",
            "_model_module_version": "1.5.0",
            "value": " 1/1 [00:02&lt;00:00,  2.75s/it]",
            "_view_count": null,
            "_view_module_version": "1.5.0",
            "description_tooltip": null,
            "_model_module": "@jupyter-widgets/controls",
            "layout": "IPY_MODEL_021f2fbeda964a86b738d77578ec8713"
          }
        },
        "6d4154b6c48e4b79a592fe644b3e1685": {
          "model_module": "@jupyter-widgets/controls",
          "model_name": "DescriptionStyleModel",
          "state": {
            "_view_name": "StyleView",
            "_model_name": "DescriptionStyleModel",
            "description_width": "",
            "_view_module": "@jupyter-widgets/base",
            "_model_module_version": "1.5.0",
            "_view_count": null,
            "_view_module_version": "1.2.0",
            "_model_module": "@jupyter-widgets/controls"
          }
        },
        "e5901e2fcf5e43c5ba22b10215fff2c4": {
          "model_module": "@jupyter-widgets/base",
          "model_name": "LayoutModel",
          "state": {
            "_view_name": "LayoutView",
            "grid_template_rows": null,
            "right": null,
            "justify_content": null,
            "_view_module": "@jupyter-widgets/base",
            "overflow": null,
            "_model_module_version": "1.2.0",
            "_view_count": null,
            "flex_flow": null,
            "width": null,
            "min_width": null,
            "border": null,
            "align_items": null,
            "bottom": null,
            "_model_module": "@jupyter-widgets/base",
            "top": null,
            "grid_column": null,
            "overflow_y": null,
            "overflow_x": null,
            "grid_auto_flow": null,
            "grid_area": null,
            "grid_template_columns": null,
            "flex": null,
            "_model_name": "LayoutModel",
            "justify_items": null,
            "grid_row": null,
            "max_height": null,
            "align_content": null,
            "visibility": null,
            "align_self": null,
            "height": null,
            "min_height": null,
            "padding": null,
            "grid_auto_rows": null,
            "grid_gap": null,
            "max_width": null,
            "order": null,
            "_view_module_version": "1.2.0",
            "grid_template_areas": null,
            "object_position": null,
            "object_fit": null,
            "grid_auto_columns": null,
            "margin": null,
            "display": null,
            "left": null
          }
        },
        "43527a2539ab43ac9a4cb70ebff12c12": {
          "model_module": "@jupyter-widgets/controls",
          "model_name": "ProgressStyleModel",
          "state": {
            "_view_name": "StyleView",
            "_model_name": "ProgressStyleModel",
            "description_width": "",
            "_view_module": "@jupyter-widgets/base",
            "_model_module_version": "1.5.0",
            "_view_count": null,
            "_view_module_version": "1.2.0",
            "bar_color": null,
            "_model_module": "@jupyter-widgets/controls"
          }
        },
        "a27b387bfaa24cbb86da545266225df5": {
          "model_module": "@jupyter-widgets/base",
          "model_name": "LayoutModel",
          "state": {
            "_view_name": "LayoutView",
            "grid_template_rows": null,
            "right": null,
            "justify_content": null,
            "_view_module": "@jupyter-widgets/base",
            "overflow": null,
            "_model_module_version": "1.2.0",
            "_view_count": null,
            "flex_flow": null,
            "width": null,
            "min_width": null,
            "border": null,
            "align_items": null,
            "bottom": null,
            "_model_module": "@jupyter-widgets/base",
            "top": null,
            "grid_column": null,
            "overflow_y": null,
            "overflow_x": null,
            "grid_auto_flow": null,
            "grid_area": null,
            "grid_template_columns": null,
            "flex": null,
            "_model_name": "LayoutModel",
            "justify_items": null,
            "grid_row": null,
            "max_height": null,
            "align_content": null,
            "visibility": null,
            "align_self": null,
            "height": null,
            "min_height": null,
            "padding": null,
            "grid_auto_rows": null,
            "grid_gap": null,
            "max_width": null,
            "order": null,
            "_view_module_version": "1.2.0",
            "grid_template_areas": null,
            "object_position": null,
            "object_fit": null,
            "grid_auto_columns": null,
            "margin": null,
            "display": null,
            "left": null
          }
        },
        "d9115cfb81404b53897ebb4ccf6d7e27": {
          "model_module": "@jupyter-widgets/controls",
          "model_name": "DescriptionStyleModel",
          "state": {
            "_view_name": "StyleView",
            "_model_name": "DescriptionStyleModel",
            "description_width": "",
            "_view_module": "@jupyter-widgets/base",
            "_model_module_version": "1.5.0",
            "_view_count": null,
            "_view_module_version": "1.2.0",
            "_model_module": "@jupyter-widgets/controls"
          }
        },
        "021f2fbeda964a86b738d77578ec8713": {
          "model_module": "@jupyter-widgets/base",
          "model_name": "LayoutModel",
          "state": {
            "_view_name": "LayoutView",
            "grid_template_rows": null,
            "right": null,
            "justify_content": null,
            "_view_module": "@jupyter-widgets/base",
            "overflow": null,
            "_model_module_version": "1.2.0",
            "_view_count": null,
            "flex_flow": null,
            "width": null,
            "min_width": null,
            "border": null,
            "align_items": null,
            "bottom": null,
            "_model_module": "@jupyter-widgets/base",
            "top": null,
            "grid_column": null,
            "overflow_y": null,
            "overflow_x": null,
            "grid_auto_flow": null,
            "grid_area": null,
            "grid_template_columns": null,
            "flex": null,
            "_model_name": "LayoutModel",
            "justify_items": null,
            "grid_row": null,
            "max_height": null,
            "align_content": null,
            "visibility": null,
            "align_self": null,
            "height": null,
            "min_height": null,
            "padding": null,
            "grid_auto_rows": null,
            "grid_gap": null,
            "max_width": null,
            "order": null,
            "_view_module_version": "1.2.0",
            "grid_template_areas": null,
            "object_position": null,
            "object_fit": null,
            "grid_auto_columns": null,
            "margin": null,
            "display": null,
            "left": null
          }
        },
        "282eae9e8d674a5593b4f69c33b6b376": {
          "model_module": "@jupyter-widgets/controls",
          "model_name": "HBoxModel",
          "state": {
            "_view_name": "HBoxView",
            "_dom_classes": [],
            "_model_name": "HBoxModel",
            "_view_module": "@jupyter-widgets/controls",
            "_model_module_version": "1.5.0",
            "_view_count": null,
            "_view_module_version": "1.5.0",
            "box_style": "",
            "layout": "IPY_MODEL_4ce3a915f0af49d2b82b7dc781bed87f",
            "_model_module": "@jupyter-widgets/controls",
            "children": [
              "IPY_MODEL_95ca0a9dbb504e1f981d9050a4c5bc01",
              "IPY_MODEL_76b579e6040d4caabd9d4fab2bcf0b94",
              "IPY_MODEL_eb47b6b7ebb04c2083bfadd39b4af7a2"
            ]
          }
        },
        "4ce3a915f0af49d2b82b7dc781bed87f": {
          "model_module": "@jupyter-widgets/base",
          "model_name": "LayoutModel",
          "state": {
            "_view_name": "LayoutView",
            "grid_template_rows": null,
            "right": null,
            "justify_content": null,
            "_view_module": "@jupyter-widgets/base",
            "overflow": null,
            "_model_module_version": "1.2.0",
            "_view_count": null,
            "flex_flow": null,
            "width": null,
            "min_width": null,
            "border": null,
            "align_items": null,
            "bottom": null,
            "_model_module": "@jupyter-widgets/base",
            "top": null,
            "grid_column": null,
            "overflow_y": null,
            "overflow_x": null,
            "grid_auto_flow": null,
            "grid_area": null,
            "grid_template_columns": null,
            "flex": null,
            "_model_name": "LayoutModel",
            "justify_items": null,
            "grid_row": null,
            "max_height": null,
            "align_content": null,
            "visibility": null,
            "align_self": null,
            "height": null,
            "min_height": null,
            "padding": null,
            "grid_auto_rows": null,
            "grid_gap": null,
            "max_width": null,
            "order": null,
            "_view_module_version": "1.2.0",
            "grid_template_areas": null,
            "object_position": null,
            "object_fit": null,
            "grid_auto_columns": null,
            "margin": null,
            "display": null,
            "left": null
          }
        },
        "95ca0a9dbb504e1f981d9050a4c5bc01": {
          "model_module": "@jupyter-widgets/controls",
          "model_name": "HTMLModel",
          "state": {
            "_view_name": "HTMLView",
            "style": "IPY_MODEL_a615ef711aa14e23b8a218b6b85239f9",
            "_dom_classes": [],
            "description": "",
            "_model_name": "HTMLModel",
            "placeholder": "​",
            "_view_module": "@jupyter-widgets/controls",
            "_model_module_version": "1.5.0",
            "value": "Render HTML: 100%",
            "_view_count": null,
            "_view_module_version": "1.5.0",
            "description_tooltip": null,
            "_model_module": "@jupyter-widgets/controls",
            "layout": "IPY_MODEL_ee68a214dc9f47ddb3384eb04b99b616"
          }
        },
        "76b579e6040d4caabd9d4fab2bcf0b94": {
          "model_module": "@jupyter-widgets/controls",
          "model_name": "FloatProgressModel",
          "state": {
            "_view_name": "ProgressView",
            "style": "IPY_MODEL_13ab4065b96f48479dfb3034710bd973",
            "_dom_classes": [],
            "description": "",
            "_model_name": "FloatProgressModel",
            "bar_style": "success",
            "max": 1,
            "_view_module": "@jupyter-widgets/controls",
            "_model_module_version": "1.5.0",
            "value": 1,
            "_view_count": null,
            "_view_module_version": "1.5.0",
            "orientation": "horizontal",
            "min": 0,
            "description_tooltip": null,
            "_model_module": "@jupyter-widgets/controls",
            "layout": "IPY_MODEL_e1c6df26caf34099bf207a95ebac02c7"
          }
        },
        "eb47b6b7ebb04c2083bfadd39b4af7a2": {
          "model_module": "@jupyter-widgets/controls",
          "model_name": "HTMLModel",
          "state": {
            "_view_name": "HTMLView",
            "style": "IPY_MODEL_c7aa90279def4816a80e23bc007500fa",
            "_dom_classes": [],
            "description": "",
            "_model_name": "HTMLModel",
            "placeholder": "​",
            "_view_module": "@jupyter-widgets/controls",
            "_model_module_version": "1.5.0",
            "value": " 1/1 [00:00&lt;00:00,  1.17it/s]",
            "_view_count": null,
            "_view_module_version": "1.5.0",
            "description_tooltip": null,
            "_model_module": "@jupyter-widgets/controls",
            "layout": "IPY_MODEL_bfebcb0fe1544611815c014752127cd1"
          }
        },
        "a615ef711aa14e23b8a218b6b85239f9": {
          "model_module": "@jupyter-widgets/controls",
          "model_name": "DescriptionStyleModel",
          "state": {
            "_view_name": "StyleView",
            "_model_name": "DescriptionStyleModel",
            "description_width": "",
            "_view_module": "@jupyter-widgets/base",
            "_model_module_version": "1.5.0",
            "_view_count": null,
            "_view_module_version": "1.2.0",
            "_model_module": "@jupyter-widgets/controls"
          }
        },
        "ee68a214dc9f47ddb3384eb04b99b616": {
          "model_module": "@jupyter-widgets/base",
          "model_name": "LayoutModel",
          "state": {
            "_view_name": "LayoutView",
            "grid_template_rows": null,
            "right": null,
            "justify_content": null,
            "_view_module": "@jupyter-widgets/base",
            "overflow": null,
            "_model_module_version": "1.2.0",
            "_view_count": null,
            "flex_flow": null,
            "width": null,
            "min_width": null,
            "border": null,
            "align_items": null,
            "bottom": null,
            "_model_module": "@jupyter-widgets/base",
            "top": null,
            "grid_column": null,
            "overflow_y": null,
            "overflow_x": null,
            "grid_auto_flow": null,
            "grid_area": null,
            "grid_template_columns": null,
            "flex": null,
            "_model_name": "LayoutModel",
            "justify_items": null,
            "grid_row": null,
            "max_height": null,
            "align_content": null,
            "visibility": null,
            "align_self": null,
            "height": null,
            "min_height": null,
            "padding": null,
            "grid_auto_rows": null,
            "grid_gap": null,
            "max_width": null,
            "order": null,
            "_view_module_version": "1.2.0",
            "grid_template_areas": null,
            "object_position": null,
            "object_fit": null,
            "grid_auto_columns": null,
            "margin": null,
            "display": null,
            "left": null
          }
        },
        "13ab4065b96f48479dfb3034710bd973": {
          "model_module": "@jupyter-widgets/controls",
          "model_name": "ProgressStyleModel",
          "state": {
            "_view_name": "StyleView",
            "_model_name": "ProgressStyleModel",
            "description_width": "",
            "_view_module": "@jupyter-widgets/base",
            "_model_module_version": "1.5.0",
            "_view_count": null,
            "_view_module_version": "1.2.0",
            "bar_color": null,
            "_model_module": "@jupyter-widgets/controls"
          }
        },
        "e1c6df26caf34099bf207a95ebac02c7": {
          "model_module": "@jupyter-widgets/base",
          "model_name": "LayoutModel",
          "state": {
            "_view_name": "LayoutView",
            "grid_template_rows": null,
            "right": null,
            "justify_content": null,
            "_view_module": "@jupyter-widgets/base",
            "overflow": null,
            "_model_module_version": "1.2.0",
            "_view_count": null,
            "flex_flow": null,
            "width": null,
            "min_width": null,
            "border": null,
            "align_items": null,
            "bottom": null,
            "_model_module": "@jupyter-widgets/base",
            "top": null,
            "grid_column": null,
            "overflow_y": null,
            "overflow_x": null,
            "grid_auto_flow": null,
            "grid_area": null,
            "grid_template_columns": null,
            "flex": null,
            "_model_name": "LayoutModel",
            "justify_items": null,
            "grid_row": null,
            "max_height": null,
            "align_content": null,
            "visibility": null,
            "align_self": null,
            "height": null,
            "min_height": null,
            "padding": null,
            "grid_auto_rows": null,
            "grid_gap": null,
            "max_width": null,
            "order": null,
            "_view_module_version": "1.2.0",
            "grid_template_areas": null,
            "object_position": null,
            "object_fit": null,
            "grid_auto_columns": null,
            "margin": null,
            "display": null,
            "left": null
          }
        },
        "c7aa90279def4816a80e23bc007500fa": {
          "model_module": "@jupyter-widgets/controls",
          "model_name": "DescriptionStyleModel",
          "state": {
            "_view_name": "StyleView",
            "_model_name": "DescriptionStyleModel",
            "description_width": "",
            "_view_module": "@jupyter-widgets/base",
            "_model_module_version": "1.5.0",
            "_view_count": null,
            "_view_module_version": "1.2.0",
            "_model_module": "@jupyter-widgets/controls"
          }
        },
        "bfebcb0fe1544611815c014752127cd1": {
          "model_module": "@jupyter-widgets/base",
          "model_name": "LayoutModel",
          "state": {
            "_view_name": "LayoutView",
            "grid_template_rows": null,
            "right": null,
            "justify_content": null,
            "_view_module": "@jupyter-widgets/base",
            "overflow": null,
            "_model_module_version": "1.2.0",
            "_view_count": null,
            "flex_flow": null,
            "width": null,
            "min_width": null,
            "border": null,
            "align_items": null,
            "bottom": null,
            "_model_module": "@jupyter-widgets/base",
            "top": null,
            "grid_column": null,
            "overflow_y": null,
            "overflow_x": null,
            "grid_auto_flow": null,
            "grid_area": null,
            "grid_template_columns": null,
            "flex": null,
            "_model_name": "LayoutModel",
            "justify_items": null,
            "grid_row": null,
            "max_height": null,
            "align_content": null,
            "visibility": null,
            "align_self": null,
            "height": null,
            "min_height": null,
            "padding": null,
            "grid_auto_rows": null,
            "grid_gap": null,
            "max_width": null,
            "order": null,
            "_view_module_version": "1.2.0",
            "grid_template_areas": null,
            "object_position": null,
            "object_fit": null,
            "grid_auto_columns": null,
            "margin": null,
            "display": null,
            "left": null
          }
        },
        "87d5a9214c154939a6e300d72af65349": {
          "model_module": "@jupyter-widgets/controls",
          "model_name": "HBoxModel",
          "state": {
            "_view_name": "HBoxView",
            "_dom_classes": [],
            "_model_name": "HBoxModel",
            "_view_module": "@jupyter-widgets/controls",
            "_model_module_version": "1.5.0",
            "_view_count": null,
            "_view_module_version": "1.5.0",
            "box_style": "",
            "layout": "IPY_MODEL_020256d2d8b44f53a6ea9278bf8cc423",
            "_model_module": "@jupyter-widgets/controls",
            "children": [
              "IPY_MODEL_60e139011fb74ca0a85d2ee5eb126788",
              "IPY_MODEL_54a34424b1474c3aa79edd9baab58686",
              "IPY_MODEL_fff793b370554db29878cf2d110b8f5f"
            ]
          }
        },
        "020256d2d8b44f53a6ea9278bf8cc423": {
          "model_module": "@jupyter-widgets/base",
          "model_name": "LayoutModel",
          "state": {
            "_view_name": "LayoutView",
            "grid_template_rows": null,
            "right": null,
            "justify_content": null,
            "_view_module": "@jupyter-widgets/base",
            "overflow": null,
            "_model_module_version": "1.2.0",
            "_view_count": null,
            "flex_flow": null,
            "width": null,
            "min_width": null,
            "border": null,
            "align_items": null,
            "bottom": null,
            "_model_module": "@jupyter-widgets/base",
            "top": null,
            "grid_column": null,
            "overflow_y": null,
            "overflow_x": null,
            "grid_auto_flow": null,
            "grid_area": null,
            "grid_template_columns": null,
            "flex": null,
            "_model_name": "LayoutModel",
            "justify_items": null,
            "grid_row": null,
            "max_height": null,
            "align_content": null,
            "visibility": null,
            "align_self": null,
            "height": null,
            "min_height": null,
            "padding": null,
            "grid_auto_rows": null,
            "grid_gap": null,
            "max_width": null,
            "order": null,
            "_view_module_version": "1.2.0",
            "grid_template_areas": null,
            "object_position": null,
            "object_fit": null,
            "grid_auto_columns": null,
            "margin": null,
            "display": null,
            "left": null
          }
        },
        "60e139011fb74ca0a85d2ee5eb126788": {
          "model_module": "@jupyter-widgets/controls",
          "model_name": "HTMLModel",
          "state": {
            "_view_name": "HTMLView",
            "style": "IPY_MODEL_487fa78be9094fb8912232b9e3e2f293",
            "_dom_classes": [],
            "description": "",
            "_model_name": "HTMLModel",
            "placeholder": "​",
            "_view_module": "@jupyter-widgets/controls",
            "_model_module_version": "1.5.0",
            "value": "Export report to file: 100%",
            "_view_count": null,
            "_view_module_version": "1.5.0",
            "description_tooltip": null,
            "_model_module": "@jupyter-widgets/controls",
            "layout": "IPY_MODEL_3add1052bb5c470da6edcf7892e45d48"
          }
        },
        "54a34424b1474c3aa79edd9baab58686": {
          "model_module": "@jupyter-widgets/controls",
          "model_name": "FloatProgressModel",
          "state": {
            "_view_name": "ProgressView",
            "style": "IPY_MODEL_8b52cbe76b494690bfa90e00a831acd0",
            "_dom_classes": [],
            "description": "",
            "_model_name": "FloatProgressModel",
            "bar_style": "success",
            "max": 1,
            "_view_module": "@jupyter-widgets/controls",
            "_model_module_version": "1.5.0",
            "value": 1,
            "_view_count": null,
            "_view_module_version": "1.5.0",
            "orientation": "horizontal",
            "min": 0,
            "description_tooltip": null,
            "_model_module": "@jupyter-widgets/controls",
            "layout": "IPY_MODEL_3859a8ef7967405ab379a66a0bcca886"
          }
        },
        "fff793b370554db29878cf2d110b8f5f": {
          "model_module": "@jupyter-widgets/controls",
          "model_name": "HTMLModel",
          "state": {
            "_view_name": "HTMLView",
            "style": "IPY_MODEL_9f6320d220bc4f4c8ff407886b36ff03",
            "_dom_classes": [],
            "description": "",
            "_model_name": "HTMLModel",
            "placeholder": "​",
            "_view_module": "@jupyter-widgets/controls",
            "_model_module_version": "1.5.0",
            "value": " 1/1 [00:00&lt;00:00, 18.64it/s]",
            "_view_count": null,
            "_view_module_version": "1.5.0",
            "description_tooltip": null,
            "_model_module": "@jupyter-widgets/controls",
            "layout": "IPY_MODEL_5285313c557941b380c03ece6b592f99"
          }
        },
        "487fa78be9094fb8912232b9e3e2f293": {
          "model_module": "@jupyter-widgets/controls",
          "model_name": "DescriptionStyleModel",
          "state": {
            "_view_name": "StyleView",
            "_model_name": "DescriptionStyleModel",
            "description_width": "",
            "_view_module": "@jupyter-widgets/base",
            "_model_module_version": "1.5.0",
            "_view_count": null,
            "_view_module_version": "1.2.0",
            "_model_module": "@jupyter-widgets/controls"
          }
        },
        "3add1052bb5c470da6edcf7892e45d48": {
          "model_module": "@jupyter-widgets/base",
          "model_name": "LayoutModel",
          "state": {
            "_view_name": "LayoutView",
            "grid_template_rows": null,
            "right": null,
            "justify_content": null,
            "_view_module": "@jupyter-widgets/base",
            "overflow": null,
            "_model_module_version": "1.2.0",
            "_view_count": null,
            "flex_flow": null,
            "width": null,
            "min_width": null,
            "border": null,
            "align_items": null,
            "bottom": null,
            "_model_module": "@jupyter-widgets/base",
            "top": null,
            "grid_column": null,
            "overflow_y": null,
            "overflow_x": null,
            "grid_auto_flow": null,
            "grid_area": null,
            "grid_template_columns": null,
            "flex": null,
            "_model_name": "LayoutModel",
            "justify_items": null,
            "grid_row": null,
            "max_height": null,
            "align_content": null,
            "visibility": null,
            "align_self": null,
            "height": null,
            "min_height": null,
            "padding": null,
            "grid_auto_rows": null,
            "grid_gap": null,
            "max_width": null,
            "order": null,
            "_view_module_version": "1.2.0",
            "grid_template_areas": null,
            "object_position": null,
            "object_fit": null,
            "grid_auto_columns": null,
            "margin": null,
            "display": null,
            "left": null
          }
        },
        "8b52cbe76b494690bfa90e00a831acd0": {
          "model_module": "@jupyter-widgets/controls",
          "model_name": "ProgressStyleModel",
          "state": {
            "_view_name": "StyleView",
            "_model_name": "ProgressStyleModel",
            "description_width": "",
            "_view_module": "@jupyter-widgets/base",
            "_model_module_version": "1.5.0",
            "_view_count": null,
            "_view_module_version": "1.2.0",
            "bar_color": null,
            "_model_module": "@jupyter-widgets/controls"
          }
        },
        "3859a8ef7967405ab379a66a0bcca886": {
          "model_module": "@jupyter-widgets/base",
          "model_name": "LayoutModel",
          "state": {
            "_view_name": "LayoutView",
            "grid_template_rows": null,
            "right": null,
            "justify_content": null,
            "_view_module": "@jupyter-widgets/base",
            "overflow": null,
            "_model_module_version": "1.2.0",
            "_view_count": null,
            "flex_flow": null,
            "width": null,
            "min_width": null,
            "border": null,
            "align_items": null,
            "bottom": null,
            "_model_module": "@jupyter-widgets/base",
            "top": null,
            "grid_column": null,
            "overflow_y": null,
            "overflow_x": null,
            "grid_auto_flow": null,
            "grid_area": null,
            "grid_template_columns": null,
            "flex": null,
            "_model_name": "LayoutModel",
            "justify_items": null,
            "grid_row": null,
            "max_height": null,
            "align_content": null,
            "visibility": null,
            "align_self": null,
            "height": null,
            "min_height": null,
            "padding": null,
            "grid_auto_rows": null,
            "grid_gap": null,
            "max_width": null,
            "order": null,
            "_view_module_version": "1.2.0",
            "grid_template_areas": null,
            "object_position": null,
            "object_fit": null,
            "grid_auto_columns": null,
            "margin": null,
            "display": null,
            "left": null
          }
        },
        "9f6320d220bc4f4c8ff407886b36ff03": {
          "model_module": "@jupyter-widgets/controls",
          "model_name": "DescriptionStyleModel",
          "state": {
            "_view_name": "StyleView",
            "_model_name": "DescriptionStyleModel",
            "description_width": "",
            "_view_module": "@jupyter-widgets/base",
            "_model_module_version": "1.5.0",
            "_view_count": null,
            "_view_module_version": "1.2.0",
            "_model_module": "@jupyter-widgets/controls"
          }
        },
        "5285313c557941b380c03ece6b592f99": {
          "model_module": "@jupyter-widgets/base",
          "model_name": "LayoutModel",
          "state": {
            "_view_name": "LayoutView",
            "grid_template_rows": null,
            "right": null,
            "justify_content": null,
            "_view_module": "@jupyter-widgets/base",
            "overflow": null,
            "_model_module_version": "1.2.0",
            "_view_count": null,
            "flex_flow": null,
            "width": null,
            "min_width": null,
            "border": null,
            "align_items": null,
            "bottom": null,
            "_model_module": "@jupyter-widgets/base",
            "top": null,
            "grid_column": null,
            "overflow_y": null,
            "overflow_x": null,
            "grid_auto_flow": null,
            "grid_area": null,
            "grid_template_columns": null,
            "flex": null,
            "_model_name": "LayoutModel",
            "justify_items": null,
            "grid_row": null,
            "max_height": null,
            "align_content": null,
            "visibility": null,
            "align_self": null,
            "height": null,
            "min_height": null,
            "padding": null,
            "grid_auto_rows": null,
            "grid_gap": null,
            "max_width": null,
            "order": null,
            "_view_module_version": "1.2.0",
            "grid_template_areas": null,
            "object_position": null,
            "object_fit": null,
            "grid_auto_columns": null,
            "margin": null,
            "display": null,
            "left": null
          }
        }
      }
    }
  },
  "cells": [
    {
      "cell_type": "code",
      "metadata": {
        "id": "x2q6KZih_sX5"
      },
      "source": [
        "import numpy as np \n",
        "import pandas as pd \n",
        "import matplotlib.pyplot as plt\n",
        "import seaborn as sns\n",
        "import scipy.stats as stats\n",
        "\n",
        "# suppress warnings\n",
        "import warnings\n",
        "warnings.filterwarnings(\"ignore\")\n",
        "\n",
        "%matplotlib inline\n",
        "\n",
        "def csv_drive_path_generator(url:str):\n",
        " '''\n",
        " Help in read csv file directly from google drive.\n",
        " Make sure the csv format is standard.\n",
        " url:str - path to csv file example:\n",
        "   url = 'https://drive.google.com/file/d/126JPZ3lYwdLyJ2d_7jxM9jMtZaOlF-Ld/view?usp=sharing'\n",
        " return : str\n",
        " '''\n",
        " path = 'https://drive.google.com/uc?export=download&id='+url.split('/')[-2]\n",
        " return path"
      ],
      "execution_count": null,
      "outputs": []
    },
    {
      "cell_type": "markdown",
      "metadata": {
        "id": "hgXtu0FR-9pv"
      },
      "source": [
        "# Preliminaries"
      ]
    },
    {
      "cell_type": "markdown",
      "metadata": {
        "id": "di6QLcg2-fk6"
      },
      "source": [
        "The chosen dataset for the following EDA project is \"insurance.csv\" (source: https://github.com/stedy/Machine-Learning-with-R-datasets/blob/master/insurance.csv).\n",
        "The dataset is dedicated to the cost of treatment of different patients billed by their health insurance. The cost of treatment depends on many factors: diagnosis, type of clinic, city of residence, age and so on. We have no data on the diagnosis of patients. But we have other information that can help us to make a conclusion about the health of patients and practice dataset analysis.\n",
        "\n",
        "Columns:\n",
        "\n",
        "- age: insurance contractor's age\n",
        "\n",
        "- sex: insurance contractor's gender (female, male)\n",
        "\n",
        "- bmi: body mass index\n",
        "\n",
        "- children: number of children covered by health insurance / number of dependents\n",
        "\n",
        "- smoker: does insurance contractor smoke or not\n",
        "\n",
        "- region: insurance contractor's residential area in the US: northeast, southeast, northwest, southwest\n",
        "\n",
        "- charges: individual medical costs billed by health insurance\n"
      ]
    },
    {
      "cell_type": "markdown",
      "metadata": {
        "id": "j0uZ30ZHHNX_"
      },
      "source": [
        "# Read the data"
      ]
    },
    {
      "cell_type": "code",
      "metadata": {
        "id": "vW8R9dhD0bWs"
      },
      "source": [
        "# path = csv_drive_path_generator(url = 'https://drive.google.com/file/d/1CyX59y4Of3esfF9nVPcx569uNf2AjCqv/view?usp=sharing')\n",
        "# insurance_df = pd.read_csv(path)\n",
        "# insurance_df.head()"
      ],
      "execution_count": null,
      "outputs": []
    },
    {
      "cell_type": "code",
      "metadata": {
        "colab": {
          "base_uri": "https://localhost:8080/",
          "height": 204
        },
        "id": "FSU6IPiLBE23",
        "outputId": "0b9a48d7-c5da-4570-e63c-0126a88e3c50"
      },
      "source": [
        "insurance_df = pd.read_csv(\"insurance.csv\")\n",
        "insurance_df.head()"
      ],
      "execution_count": null,
      "outputs": [
        {
          "output_type": "execute_result",
          "data": {
            "text/html": [
              "<div>\n",
              "<style scoped>\n",
              "    .dataframe tbody tr th:only-of-type {\n",
              "        vertical-align: middle;\n",
              "    }\n",
              "\n",
              "    .dataframe tbody tr th {\n",
              "        vertical-align: top;\n",
              "    }\n",
              "\n",
              "    .dataframe thead th {\n",
              "        text-align: right;\n",
              "    }\n",
              "</style>\n",
              "<table border=\"1\" class=\"dataframe\">\n",
              "  <thead>\n",
              "    <tr style=\"text-align: right;\">\n",
              "      <th></th>\n",
              "      <th>age</th>\n",
              "      <th>sex</th>\n",
              "      <th>bmi</th>\n",
              "      <th>children</th>\n",
              "      <th>smoker</th>\n",
              "      <th>region</th>\n",
              "      <th>charges</th>\n",
              "    </tr>\n",
              "  </thead>\n",
              "  <tbody>\n",
              "    <tr>\n",
              "      <th>0</th>\n",
              "      <td>19</td>\n",
              "      <td>female</td>\n",
              "      <td>27.900</td>\n",
              "      <td>0</td>\n",
              "      <td>yes</td>\n",
              "      <td>southwest</td>\n",
              "      <td>16884.92400</td>\n",
              "    </tr>\n",
              "    <tr>\n",
              "      <th>1</th>\n",
              "      <td>18</td>\n",
              "      <td>male</td>\n",
              "      <td>33.770</td>\n",
              "      <td>1</td>\n",
              "      <td>no</td>\n",
              "      <td>southeast</td>\n",
              "      <td>1725.55230</td>\n",
              "    </tr>\n",
              "    <tr>\n",
              "      <th>2</th>\n",
              "      <td>28</td>\n",
              "      <td>male</td>\n",
              "      <td>33.000</td>\n",
              "      <td>3</td>\n",
              "      <td>no</td>\n",
              "      <td>southeast</td>\n",
              "      <td>4449.46200</td>\n",
              "    </tr>\n",
              "    <tr>\n",
              "      <th>3</th>\n",
              "      <td>33</td>\n",
              "      <td>male</td>\n",
              "      <td>22.705</td>\n",
              "      <td>0</td>\n",
              "      <td>no</td>\n",
              "      <td>northwest</td>\n",
              "      <td>21984.47061</td>\n",
              "    </tr>\n",
              "    <tr>\n",
              "      <th>4</th>\n",
              "      <td>32</td>\n",
              "      <td>male</td>\n",
              "      <td>28.880</td>\n",
              "      <td>0</td>\n",
              "      <td>no</td>\n",
              "      <td>northwest</td>\n",
              "      <td>3866.85520</td>\n",
              "    </tr>\n",
              "  </tbody>\n",
              "</table>\n",
              "</div>"
            ],
            "text/plain": [
              "   age     sex     bmi  children smoker     region      charges\n",
              "0   19  female  27.900         0    yes  southwest  16884.92400\n",
              "1   18    male  33.770         1     no  southeast   1725.55230\n",
              "2   28    male  33.000         3     no  southeast   4449.46200\n",
              "3   33    male  22.705         0     no  northwest  21984.47061\n",
              "4   32    male  28.880         0     no  northwest   3866.85520"
            ]
          },
          "metadata": {
            "tags": []
          },
          "execution_count": 62
        }
      ]
    },
    {
      "cell_type": "code",
      "metadata": {
        "colab": {
          "base_uri": "https://localhost:8080/"
        },
        "id": "oWiS6LhNTR12",
        "outputId": "d984692b-9e77-4ea5-bf5e-2ae4ab3e801a"
      },
      "source": [
        "print(f\"The data frame has {insurance_df.shape[0]} rows and {insurance_df.shape[1]} columns.\")"
      ],
      "execution_count": null,
      "outputs": [
        {
          "output_type": "stream",
          "text": [
            "The data frame has 1338 rows and 7 columns.\n"
          ],
          "name": "stdout"
        }
      ]
    },
    {
      "cell_type": "markdown",
      "metadata": {
        "id": "PQ9MJRr6NUFp"
      },
      "source": [
        "# Data inspection"
      ]
    },
    {
      "cell_type": "markdown",
      "metadata": {
        "id": "uAFGIs7JQfZI"
      },
      "source": [
        "### General info"
      ]
    },
    {
      "cell_type": "markdown",
      "metadata": {
        "id": "MmJTN6upNgzB"
      },
      "source": [
        "Let's have a general glance at our data.\n",
        "\n",
        "pandas.DataFrame.info method gives us information regarding index dtype and columns, non-null values and memory usage."
      ]
    },
    {
      "cell_type": "code",
      "metadata": {
        "colab": {
          "base_uri": "https://localhost:8080/"
        },
        "id": "y_mjkn59QyD4",
        "outputId": "f1a50a45-a112-4b14-dd4a-1939e515ac0c"
      },
      "source": [
        "insurance_df.info()"
      ],
      "execution_count": null,
      "outputs": [
        {
          "output_type": "stream",
          "text": [
            "<class 'pandas.core.frame.DataFrame'>\n",
            "RangeIndex: 1338 entries, 0 to 1337\n",
            "Data columns (total 7 columns):\n",
            " #   Column    Non-Null Count  Dtype  \n",
            "---  ------    --------------  -----  \n",
            " 0   age       1338 non-null   int64  \n",
            " 1   sex       1338 non-null   object \n",
            " 2   bmi       1338 non-null   float64\n",
            " 3   children  1338 non-null   int64  \n",
            " 4   smoker    1338 non-null   object \n",
            " 5   region    1338 non-null   object \n",
            " 6   charges   1338 non-null   float64\n",
            "dtypes: float64(2), int64(2), object(3)\n",
            "memory usage: 73.3+ KB\n"
          ],
          "name": "stdout"
        }
      ]
    },
    {
      "cell_type": "markdown",
      "metadata": {
        "id": "r9011DGVV7c7"
      },
      "source": [
        "From the above we see there are 7 columns, there are no null values in the data. Age, bmi, children, charges columns have numeric datatype, and sex, smoker, region columns have object datatype."
      ]
    },
    {
      "cell_type": "markdown",
      "metadata": {
        "id": "VXbq3gfsR23W"
      },
      "source": [
        "### Number of distinct values for each column"
      ]
    },
    {
      "cell_type": "code",
      "metadata": {
        "colab": {
          "base_uri": "https://localhost:8080/"
        },
        "id": "oDA4rGicQLwf",
        "outputId": "ea47dc82-99e6-45fd-d96c-734b7812b1fe"
      },
      "source": [
        "insurance_df.nunique()"
      ],
      "execution_count": null,
      "outputs": [
        {
          "output_type": "execute_result",
          "data": {
            "text/plain": [
              "age           47\n",
              "sex            2\n",
              "bmi          548\n",
              "children       6\n",
              "smoker         2\n",
              "region         4\n",
              "charges     1337\n",
              "dtype: int64"
            ]
          },
          "metadata": {
            "tags": []
          },
          "execution_count": 65
        }
      ]
    },
    {
      "cell_type": "markdown",
      "metadata": {
        "id": "c8gx2P8QQYAm"
      },
      "source": [
        "### Describe for all columns"
      ]
    },
    {
      "cell_type": "code",
      "metadata": {
        "colab": {
          "base_uri": "https://localhost:8080/",
          "height": 390
        },
        "id": "g-iMcBThVj3B",
        "outputId": "75acd365-7e3c-48e5-c5e0-211e7d2f66e1"
      },
      "source": [
        "insurance_df.describe(include='all')"
      ],
      "execution_count": null,
      "outputs": [
        {
          "output_type": "execute_result",
          "data": {
            "text/html": [
              "<div>\n",
              "<style scoped>\n",
              "    .dataframe tbody tr th:only-of-type {\n",
              "        vertical-align: middle;\n",
              "    }\n",
              "\n",
              "    .dataframe tbody tr th {\n",
              "        vertical-align: top;\n",
              "    }\n",
              "\n",
              "    .dataframe thead th {\n",
              "        text-align: right;\n",
              "    }\n",
              "</style>\n",
              "<table border=\"1\" class=\"dataframe\">\n",
              "  <thead>\n",
              "    <tr style=\"text-align: right;\">\n",
              "      <th></th>\n",
              "      <th>age</th>\n",
              "      <th>sex</th>\n",
              "      <th>bmi</th>\n",
              "      <th>children</th>\n",
              "      <th>smoker</th>\n",
              "      <th>region</th>\n",
              "      <th>charges</th>\n",
              "    </tr>\n",
              "  </thead>\n",
              "  <tbody>\n",
              "    <tr>\n",
              "      <th>count</th>\n",
              "      <td>1338.000000</td>\n",
              "      <td>1338</td>\n",
              "      <td>1338.000000</td>\n",
              "      <td>1338.000000</td>\n",
              "      <td>1338</td>\n",
              "      <td>1338</td>\n",
              "      <td>1338.000000</td>\n",
              "    </tr>\n",
              "    <tr>\n",
              "      <th>unique</th>\n",
              "      <td>NaN</td>\n",
              "      <td>2</td>\n",
              "      <td>NaN</td>\n",
              "      <td>NaN</td>\n",
              "      <td>2</td>\n",
              "      <td>4</td>\n",
              "      <td>NaN</td>\n",
              "    </tr>\n",
              "    <tr>\n",
              "      <th>top</th>\n",
              "      <td>NaN</td>\n",
              "      <td>male</td>\n",
              "      <td>NaN</td>\n",
              "      <td>NaN</td>\n",
              "      <td>no</td>\n",
              "      <td>southeast</td>\n",
              "      <td>NaN</td>\n",
              "    </tr>\n",
              "    <tr>\n",
              "      <th>freq</th>\n",
              "      <td>NaN</td>\n",
              "      <td>676</td>\n",
              "      <td>NaN</td>\n",
              "      <td>NaN</td>\n",
              "      <td>1064</td>\n",
              "      <td>364</td>\n",
              "      <td>NaN</td>\n",
              "    </tr>\n",
              "    <tr>\n",
              "      <th>mean</th>\n",
              "      <td>39.207025</td>\n",
              "      <td>NaN</td>\n",
              "      <td>30.663397</td>\n",
              "      <td>1.094918</td>\n",
              "      <td>NaN</td>\n",
              "      <td>NaN</td>\n",
              "      <td>13270.422265</td>\n",
              "    </tr>\n",
              "    <tr>\n",
              "      <th>std</th>\n",
              "      <td>14.049960</td>\n",
              "      <td>NaN</td>\n",
              "      <td>6.098187</td>\n",
              "      <td>1.205493</td>\n",
              "      <td>NaN</td>\n",
              "      <td>NaN</td>\n",
              "      <td>12110.011237</td>\n",
              "    </tr>\n",
              "    <tr>\n",
              "      <th>min</th>\n",
              "      <td>18.000000</td>\n",
              "      <td>NaN</td>\n",
              "      <td>15.960000</td>\n",
              "      <td>0.000000</td>\n",
              "      <td>NaN</td>\n",
              "      <td>NaN</td>\n",
              "      <td>1121.873900</td>\n",
              "    </tr>\n",
              "    <tr>\n",
              "      <th>25%</th>\n",
              "      <td>27.000000</td>\n",
              "      <td>NaN</td>\n",
              "      <td>26.296250</td>\n",
              "      <td>0.000000</td>\n",
              "      <td>NaN</td>\n",
              "      <td>NaN</td>\n",
              "      <td>4740.287150</td>\n",
              "    </tr>\n",
              "    <tr>\n",
              "      <th>50%</th>\n",
              "      <td>39.000000</td>\n",
              "      <td>NaN</td>\n",
              "      <td>30.400000</td>\n",
              "      <td>1.000000</td>\n",
              "      <td>NaN</td>\n",
              "      <td>NaN</td>\n",
              "      <td>9382.033000</td>\n",
              "    </tr>\n",
              "    <tr>\n",
              "      <th>75%</th>\n",
              "      <td>51.000000</td>\n",
              "      <td>NaN</td>\n",
              "      <td>34.693750</td>\n",
              "      <td>2.000000</td>\n",
              "      <td>NaN</td>\n",
              "      <td>NaN</td>\n",
              "      <td>16639.912515</td>\n",
              "    </tr>\n",
              "    <tr>\n",
              "      <th>max</th>\n",
              "      <td>64.000000</td>\n",
              "      <td>NaN</td>\n",
              "      <td>53.130000</td>\n",
              "      <td>5.000000</td>\n",
              "      <td>NaN</td>\n",
              "      <td>NaN</td>\n",
              "      <td>63770.428010</td>\n",
              "    </tr>\n",
              "  </tbody>\n",
              "</table>\n",
              "</div>"
            ],
            "text/plain": [
              "                age   sex          bmi  ...  smoker     region       charges\n",
              "count   1338.000000  1338  1338.000000  ...    1338       1338   1338.000000\n",
              "unique          NaN     2          NaN  ...       2          4           NaN\n",
              "top             NaN  male          NaN  ...      no  southeast           NaN\n",
              "freq            NaN   676          NaN  ...    1064        364           NaN\n",
              "mean      39.207025   NaN    30.663397  ...     NaN        NaN  13270.422265\n",
              "std       14.049960   NaN     6.098187  ...     NaN        NaN  12110.011237\n",
              "min       18.000000   NaN    15.960000  ...     NaN        NaN   1121.873900\n",
              "25%       27.000000   NaN    26.296250  ...     NaN        NaN   4740.287150\n",
              "50%       39.000000   NaN    30.400000  ...     NaN        NaN   9382.033000\n",
              "75%       51.000000   NaN    34.693750  ...     NaN        NaN  16639.912515\n",
              "max       64.000000   NaN    53.130000  ...     NaN        NaN  63770.428010\n",
              "\n",
              "[11 rows x 7 columns]"
            ]
          },
          "metadata": {
            "tags": []
          },
          "execution_count": 66
        }
      ]
    },
    {
      "cell_type": "markdown",
      "metadata": {
        "id": "aCiOLGc6HKxQ"
      },
      "source": [
        "# Pandas Profiling Report"
      ]
    },
    {
      "cell_type": "code",
      "metadata": {
        "id": "U4HErJ2VGul-"
      },
      "source": [
        "# !pip install pandas-profiling==2.7.1"
      ],
      "execution_count": null,
      "outputs": []
    },
    {
      "cell_type": "code",
      "metadata": {
        "colab": {
          "base_uri": "https://localhost:8080/",
          "height": 145,
          "referenced_widgets": [
            "57f68f9dd5d0418f963e08faac0727ed",
            "306ae13e6c8a464f86609f7e12f07e87",
            "b4e998d49f72487fa4ac6aa8997542d0",
            "9e0e5eeda02c41b6ae7b5cf97874f76d",
            "b090979521eb4c59a9a300bc39ed1d4a",
            "08e0b759ddfa4762a7eb70aff64b7e4d",
            "3c4b5bc8fdd04ba9bd4d656add374825",
            "db5e473ccd804651bda350344119bd5b",
            "37604c2a3ca547678da582d9177e762d",
            "557b1e222ab34efaacdae70e9a01f461",
            "69f2ac11f9f043f6a76dcdcf4ec27232",
            "eac855ca5a3b4678b45f6491553d0e75",
            "de52958f9b1147e7b06b2a7a77526795",
            "61b8e764ef3d49bab1e1dcceca32a963",
            "f53598373acf480cbbdc28b5d99e6b24",
            "13b1551e47ea4edf80596d714990590b",
            "6d4154b6c48e4b79a592fe644b3e1685",
            "e5901e2fcf5e43c5ba22b10215fff2c4",
            "43527a2539ab43ac9a4cb70ebff12c12",
            "a27b387bfaa24cbb86da545266225df5",
            "d9115cfb81404b53897ebb4ccf6d7e27",
            "021f2fbeda964a86b738d77578ec8713",
            "282eae9e8d674a5593b4f69c33b6b376",
            "4ce3a915f0af49d2b82b7dc781bed87f",
            "95ca0a9dbb504e1f981d9050a4c5bc01",
            "76b579e6040d4caabd9d4fab2bcf0b94",
            "eb47b6b7ebb04c2083bfadd39b4af7a2",
            "a615ef711aa14e23b8a218b6b85239f9",
            "ee68a214dc9f47ddb3384eb04b99b616",
            "13ab4065b96f48479dfb3034710bd973",
            "e1c6df26caf34099bf207a95ebac02c7",
            "c7aa90279def4816a80e23bc007500fa",
            "bfebcb0fe1544611815c014752127cd1",
            "87d5a9214c154939a6e300d72af65349",
            "020256d2d8b44f53a6ea9278bf8cc423",
            "60e139011fb74ca0a85d2ee5eb126788",
            "54a34424b1474c3aa79edd9baab58686",
            "fff793b370554db29878cf2d110b8f5f",
            "487fa78be9094fb8912232b9e3e2f293",
            "3add1052bb5c470da6edcf7892e45d48",
            "8b52cbe76b494690bfa90e00a831acd0",
            "3859a8ef7967405ab379a66a0bcca886",
            "9f6320d220bc4f4c8ff407886b36ff03",
            "5285313c557941b380c03ece6b592f99"
          ]
        },
        "id": "33ycFhPnG6DW",
        "outputId": "f9279760-85fe-4f18-dabc-4fc6ec664f3b"
      },
      "source": [
        "from pandas_profiling import ProfileReport\n",
        "prof = ProfileReport(insurance_df)\n",
        "prof.to_file(output_file='output.html')"
      ],
      "execution_count": null,
      "outputs": [
        {
          "output_type": "display_data",
          "data": {
            "application/vnd.jupyter.widget-view+json": {
              "model_id": "57f68f9dd5d0418f963e08faac0727ed",
              "version_minor": 0,
              "version_major": 2
            },
            "text/plain": [
              "Summarize dataset:   0%|          | 0/19 [00:00<?, ?it/s]"
            ]
          },
          "metadata": {
            "tags": []
          }
        },
        {
          "output_type": "display_data",
          "data": {
            "application/vnd.jupyter.widget-view+json": {
              "model_id": "eac855ca5a3b4678b45f6491553d0e75",
              "version_minor": 0,
              "version_major": 2
            },
            "text/plain": [
              "Generate report structure:   0%|          | 0/1 [00:00<?, ?it/s]"
            ]
          },
          "metadata": {
            "tags": []
          }
        },
        {
          "output_type": "display_data",
          "data": {
            "application/vnd.jupyter.widget-view+json": {
              "model_id": "282eae9e8d674a5593b4f69c33b6b376",
              "version_minor": 0,
              "version_major": 2
            },
            "text/plain": [
              "Render HTML:   0%|          | 0/1 [00:00<?, ?it/s]"
            ]
          },
          "metadata": {
            "tags": []
          }
        },
        {
          "output_type": "display_data",
          "data": {
            "application/vnd.jupyter.widget-view+json": {
              "model_id": "87d5a9214c154939a6e300d72af65349",
              "version_minor": 0,
              "version_major": 2
            },
            "text/plain": [
              "Export report to file:   0%|          | 0/1 [00:00<?, ?it/s]"
            ]
          },
          "metadata": {
            "tags": []
          }
        }
      ]
    },
    {
      "cell_type": "markdown",
      "metadata": {
        "id": "g8yPQ4UeRlSQ"
      },
      "source": [
        "### Report summary\n",
        "- 1 duplicate row\n",
        "- no missing values\n",
        "- 3 datatypes - number (age, bmi, children, charges), cat (sex, region), bool (smoker)\n",
        "- males & females - approximately the same number\n",
        "- age: mean ~39, std ~14\n",
        "- bmi: seems to have normal distribution with mean ~30, std ~6\n",
        "- the vast majority of observations are non-smokers (~80%)"
      ]
    },
    {
      "cell_type": "markdown",
      "metadata": {
        "id": "LRG-bwMbXqaf"
      },
      "source": [
        "# Data cleaning"
      ]
    },
    {
      "cell_type": "markdown",
      "metadata": {
        "id": "2WIk4KLkREpZ"
      },
      "source": [
        "### Removing duplicates"
      ]
    },
    {
      "cell_type": "markdown",
      "metadata": {
        "id": "TgKN-i0mM1EU"
      },
      "source": [
        "From the profiling report we found that there is 1 duplicate row. We keep the 2nd duplicate row from the data."
      ]
    },
    {
      "cell_type": "code",
      "metadata": {
        "colab": {
          "base_uri": "https://localhost:8080/",
          "height": 111
        },
        "id": "UYoSe-YeMDVD",
        "outputId": "bebd088d-fdce-49b3-cc82-cd2701fe4a50"
      },
      "source": [
        "insurance_df[insurance_df.duplicated(keep=False)]"
      ],
      "execution_count": null,
      "outputs": [
        {
          "output_type": "execute_result",
          "data": {
            "text/html": [
              "<div>\n",
              "<style scoped>\n",
              "    .dataframe tbody tr th:only-of-type {\n",
              "        vertical-align: middle;\n",
              "    }\n",
              "\n",
              "    .dataframe tbody tr th {\n",
              "        vertical-align: top;\n",
              "    }\n",
              "\n",
              "    .dataframe thead th {\n",
              "        text-align: right;\n",
              "    }\n",
              "</style>\n",
              "<table border=\"1\" class=\"dataframe\">\n",
              "  <thead>\n",
              "    <tr style=\"text-align: right;\">\n",
              "      <th></th>\n",
              "      <th>age</th>\n",
              "      <th>sex</th>\n",
              "      <th>bmi</th>\n",
              "      <th>children</th>\n",
              "      <th>smoker</th>\n",
              "      <th>region</th>\n",
              "      <th>charges</th>\n",
              "    </tr>\n",
              "  </thead>\n",
              "  <tbody>\n",
              "    <tr>\n",
              "      <th>195</th>\n",
              "      <td>19</td>\n",
              "      <td>male</td>\n",
              "      <td>30.59</td>\n",
              "      <td>0</td>\n",
              "      <td>no</td>\n",
              "      <td>northwest</td>\n",
              "      <td>1639.5631</td>\n",
              "    </tr>\n",
              "    <tr>\n",
              "      <th>581</th>\n",
              "      <td>19</td>\n",
              "      <td>male</td>\n",
              "      <td>30.59</td>\n",
              "      <td>0</td>\n",
              "      <td>no</td>\n",
              "      <td>northwest</td>\n",
              "      <td>1639.5631</td>\n",
              "    </tr>\n",
              "  </tbody>\n",
              "</table>\n",
              "</div>"
            ],
            "text/plain": [
              "     age   sex    bmi  children smoker     region    charges\n",
              "195   19  male  30.59         0     no  northwest  1639.5631\n",
              "581   19  male  30.59         0     no  northwest  1639.5631"
            ]
          },
          "metadata": {
            "tags": []
          },
          "execution_count": 68
        }
      ]
    },
    {
      "cell_type": "code",
      "metadata": {
        "id": "vMQGXKRfNRKM"
      },
      "source": [
        "insurance_df.drop_duplicates(keep='last', inplace=True)"
      ],
      "execution_count": null,
      "outputs": []
    },
    {
      "cell_type": "markdown",
      "metadata": {
        "id": "a-0BV_IxQqQb"
      },
      "source": [
        "Making sure that only the last row is kept."
      ]
    },
    {
      "cell_type": "code",
      "metadata": {
        "colab": {
          "base_uri": "https://localhost:8080/",
          "height": 80
        },
        "id": "Wi5peeDENopz",
        "outputId": "05ef6e74-5ab8-4f49-dd17-3170a669910d"
      },
      "source": [
        "insurance_df.loc[(insurance_df.age == 19) & (insurance_df.charges== 1639.5631)]"
      ],
      "execution_count": null,
      "outputs": [
        {
          "output_type": "execute_result",
          "data": {
            "text/html": [
              "<div>\n",
              "<style scoped>\n",
              "    .dataframe tbody tr th:only-of-type {\n",
              "        vertical-align: middle;\n",
              "    }\n",
              "\n",
              "    .dataframe tbody tr th {\n",
              "        vertical-align: top;\n",
              "    }\n",
              "\n",
              "    .dataframe thead th {\n",
              "        text-align: right;\n",
              "    }\n",
              "</style>\n",
              "<table border=\"1\" class=\"dataframe\">\n",
              "  <thead>\n",
              "    <tr style=\"text-align: right;\">\n",
              "      <th></th>\n",
              "      <th>age</th>\n",
              "      <th>sex</th>\n",
              "      <th>bmi</th>\n",
              "      <th>children</th>\n",
              "      <th>smoker</th>\n",
              "      <th>region</th>\n",
              "      <th>charges</th>\n",
              "    </tr>\n",
              "  </thead>\n",
              "  <tbody>\n",
              "    <tr>\n",
              "      <th>581</th>\n",
              "      <td>19</td>\n",
              "      <td>male</td>\n",
              "      <td>30.59</td>\n",
              "      <td>0</td>\n",
              "      <td>no</td>\n",
              "      <td>northwest</td>\n",
              "      <td>1639.5631</td>\n",
              "    </tr>\n",
              "  </tbody>\n",
              "</table>\n",
              "</div>"
            ],
            "text/plain": [
              "     age   sex    bmi  children smoker     region    charges\n",
              "581   19  male  30.59         0     no  northwest  1639.5631"
            ]
          },
          "metadata": {
            "tags": []
          },
          "execution_count": 70
        }
      ]
    },
    {
      "cell_type": "code",
      "metadata": {
        "colab": {
          "base_uri": "https://localhost:8080/",
          "height": 450
        },
        "id": "Ro99pcVjYJOO",
        "outputId": "0f6bf3b6-dea6-43c6-ae86-df5684459b33"
      },
      "source": [
        "insurance_df.groupby(['age', 'children']).count()"
      ],
      "execution_count": null,
      "outputs": [
        {
          "output_type": "execute_result",
          "data": {
            "text/html": [
              "<div>\n",
              "<style scoped>\n",
              "    .dataframe tbody tr th:only-of-type {\n",
              "        vertical-align: middle;\n",
              "    }\n",
              "\n",
              "    .dataframe tbody tr th {\n",
              "        vertical-align: top;\n",
              "    }\n",
              "\n",
              "    .dataframe thead th {\n",
              "        text-align: right;\n",
              "    }\n",
              "</style>\n",
              "<table border=\"1\" class=\"dataframe\">\n",
              "  <thead>\n",
              "    <tr style=\"text-align: right;\">\n",
              "      <th></th>\n",
              "      <th></th>\n",
              "      <th>sex</th>\n",
              "      <th>bmi</th>\n",
              "      <th>smoker</th>\n",
              "      <th>region</th>\n",
              "      <th>charges</th>\n",
              "    </tr>\n",
              "    <tr>\n",
              "      <th>age</th>\n",
              "      <th>children</th>\n",
              "      <th></th>\n",
              "      <th></th>\n",
              "      <th></th>\n",
              "      <th></th>\n",
              "      <th></th>\n",
              "    </tr>\n",
              "  </thead>\n",
              "  <tbody>\n",
              "    <tr>\n",
              "      <th rowspan=\"5\" valign=\"top\">18</th>\n",
              "      <th>0</th>\n",
              "      <td>51</td>\n",
              "      <td>51</td>\n",
              "      <td>51</td>\n",
              "      <td>51</td>\n",
              "      <td>51</td>\n",
              "    </tr>\n",
              "    <tr>\n",
              "      <th>1</th>\n",
              "      <td>9</td>\n",
              "      <td>9</td>\n",
              "      <td>9</td>\n",
              "      <td>9</td>\n",
              "      <td>9</td>\n",
              "    </tr>\n",
              "    <tr>\n",
              "      <th>2</th>\n",
              "      <td>6</td>\n",
              "      <td>6</td>\n",
              "      <td>6</td>\n",
              "      <td>6</td>\n",
              "      <td>6</td>\n",
              "    </tr>\n",
              "    <tr>\n",
              "      <th>3</th>\n",
              "      <td>2</td>\n",
              "      <td>2</td>\n",
              "      <td>2</td>\n",
              "      <td>2</td>\n",
              "      <td>2</td>\n",
              "    </tr>\n",
              "    <tr>\n",
              "      <th>4</th>\n",
              "      <td>1</td>\n",
              "      <td>1</td>\n",
              "      <td>1</td>\n",
              "      <td>1</td>\n",
              "      <td>1</td>\n",
              "    </tr>\n",
              "    <tr>\n",
              "      <th>...</th>\n",
              "      <th>...</th>\n",
              "      <td>...</td>\n",
              "      <td>...</td>\n",
              "      <td>...</td>\n",
              "      <td>...</td>\n",
              "      <td>...</td>\n",
              "    </tr>\n",
              "    <tr>\n",
              "      <th>63</th>\n",
              "      <th>3</th>\n",
              "      <td>3</td>\n",
              "      <td>3</td>\n",
              "      <td>3</td>\n",
              "      <td>3</td>\n",
              "      <td>3</td>\n",
              "    </tr>\n",
              "    <tr>\n",
              "      <th rowspan=\"4\" valign=\"top\">64</th>\n",
              "      <th>0</th>\n",
              "      <td>13</td>\n",
              "      <td>13</td>\n",
              "      <td>13</td>\n",
              "      <td>13</td>\n",
              "      <td>13</td>\n",
              "    </tr>\n",
              "    <tr>\n",
              "      <th>1</th>\n",
              "      <td>3</td>\n",
              "      <td>3</td>\n",
              "      <td>3</td>\n",
              "      <td>3</td>\n",
              "      <td>3</td>\n",
              "    </tr>\n",
              "    <tr>\n",
              "      <th>2</th>\n",
              "      <td>4</td>\n",
              "      <td>4</td>\n",
              "      <td>4</td>\n",
              "      <td>4</td>\n",
              "      <td>4</td>\n",
              "    </tr>\n",
              "    <tr>\n",
              "      <th>3</th>\n",
              "      <td>2</td>\n",
              "      <td>2</td>\n",
              "      <td>2</td>\n",
              "      <td>2</td>\n",
              "      <td>2</td>\n",
              "    </tr>\n",
              "  </tbody>\n",
              "</table>\n",
              "<p>219 rows × 5 columns</p>\n",
              "</div>"
            ],
            "text/plain": [
              "              sex  bmi  smoker  region  charges\n",
              "age children                                   \n",
              "18  0          51   51      51      51       51\n",
              "    1           9    9       9       9        9\n",
              "    2           6    6       6       6        6\n",
              "    3           2    2       2       2        2\n",
              "    4           1    1       1       1        1\n",
              "...           ...  ...     ...     ...      ...\n",
              "63  3           3    3       3       3        3\n",
              "64  0          13   13      13      13       13\n",
              "    1           3    3       3       3        3\n",
              "    2           4    4       4       4        4\n",
              "    3           2    2       2       2        2\n",
              "\n",
              "[219 rows x 5 columns]"
            ]
          },
          "metadata": {
            "tags": []
          },
          "execution_count": 71
        }
      ]
    },
    {
      "cell_type": "markdown",
      "metadata": {
        "id": "fK82fauaarlV"
      },
      "source": [
        "We see that there is 1 person who is 18 years old and he has 4 children. For us all people aged 20 and less who have more than 2 children are outliers. We learn there might be more outliers like that, so we are going to check our data and remove them.\n"
      ]
    },
    {
      "cell_type": "code",
      "metadata": {
        "colab": {
          "base_uri": "https://localhost:8080/",
          "height": 297
        },
        "id": "qOYo2tz3bY-7",
        "outputId": "d63eba5e-842f-4bbb-c7be-a8a27cbebf58"
      },
      "source": [
        "insurance_df.loc[(insurance_df.age < 21) & (insurance_df.children > 2)]"
      ],
      "execution_count": null,
      "outputs": [
        {
          "output_type": "execute_result",
          "data": {
            "text/html": [
              "<div>\n",
              "<style scoped>\n",
              "    .dataframe tbody tr th:only-of-type {\n",
              "        vertical-align: middle;\n",
              "    }\n",
              "\n",
              "    .dataframe tbody tr th {\n",
              "        vertical-align: top;\n",
              "    }\n",
              "\n",
              "    .dataframe thead th {\n",
              "        text-align: right;\n",
              "    }\n",
              "</style>\n",
              "<table border=\"1\" class=\"dataframe\">\n",
              "  <thead>\n",
              "    <tr style=\"text-align: right;\">\n",
              "      <th></th>\n",
              "      <th>age</th>\n",
              "      <th>sex</th>\n",
              "      <th>bmi</th>\n",
              "      <th>children</th>\n",
              "      <th>smoker</th>\n",
              "      <th>region</th>\n",
              "      <th>charges</th>\n",
              "    </tr>\n",
              "  </thead>\n",
              "  <tbody>\n",
              "    <tr>\n",
              "      <th>32</th>\n",
              "      <td>19</td>\n",
              "      <td>female</td>\n",
              "      <td>28.600</td>\n",
              "      <td>5</td>\n",
              "      <td>no</td>\n",
              "      <td>southwest</td>\n",
              "      <td>4687.79700</td>\n",
              "    </tr>\n",
              "    <tr>\n",
              "      <th>166</th>\n",
              "      <td>20</td>\n",
              "      <td>female</td>\n",
              "      <td>37.000</td>\n",
              "      <td>5</td>\n",
              "      <td>no</td>\n",
              "      <td>southwest</td>\n",
              "      <td>4830.63000</td>\n",
              "    </tr>\n",
              "    <tr>\n",
              "      <th>369</th>\n",
              "      <td>18</td>\n",
              "      <td>male</td>\n",
              "      <td>30.400</td>\n",
              "      <td>3</td>\n",
              "      <td>no</td>\n",
              "      <td>northeast</td>\n",
              "      <td>3481.86800</td>\n",
              "    </tr>\n",
              "    <tr>\n",
              "      <th>984</th>\n",
              "      <td>20</td>\n",
              "      <td>male</td>\n",
              "      <td>30.115</td>\n",
              "      <td>5</td>\n",
              "      <td>no</td>\n",
              "      <td>northeast</td>\n",
              "      <td>4915.05985</td>\n",
              "    </tr>\n",
              "    <tr>\n",
              "      <th>1095</th>\n",
              "      <td>18</td>\n",
              "      <td>female</td>\n",
              "      <td>31.350</td>\n",
              "      <td>4</td>\n",
              "      <td>no</td>\n",
              "      <td>northeast</td>\n",
              "      <td>4561.18850</td>\n",
              "    </tr>\n",
              "    <tr>\n",
              "      <th>1186</th>\n",
              "      <td>20</td>\n",
              "      <td>male</td>\n",
              "      <td>35.625</td>\n",
              "      <td>3</td>\n",
              "      <td>yes</td>\n",
              "      <td>northwest</td>\n",
              "      <td>37465.34375</td>\n",
              "    </tr>\n",
              "    <tr>\n",
              "      <th>1195</th>\n",
              "      <td>19</td>\n",
              "      <td>female</td>\n",
              "      <td>27.930</td>\n",
              "      <td>3</td>\n",
              "      <td>no</td>\n",
              "      <td>northwest</td>\n",
              "      <td>18838.70366</td>\n",
              "    </tr>\n",
              "    <tr>\n",
              "      <th>1204</th>\n",
              "      <td>18</td>\n",
              "      <td>female</td>\n",
              "      <td>27.280</td>\n",
              "      <td>3</td>\n",
              "      <td>yes</td>\n",
              "      <td>southeast</td>\n",
              "      <td>18223.45120</td>\n",
              "    </tr>\n",
              "  </tbody>\n",
              "</table>\n",
              "</div>"
            ],
            "text/plain": [
              "      age     sex     bmi  children smoker     region      charges\n",
              "32     19  female  28.600         5     no  southwest   4687.79700\n",
              "166    20  female  37.000         5     no  southwest   4830.63000\n",
              "369    18    male  30.400         3     no  northeast   3481.86800\n",
              "984    20    male  30.115         5     no  northeast   4915.05985\n",
              "1095   18  female  31.350         4     no  northeast   4561.18850\n",
              "1186   20    male  35.625         3    yes  northwest  37465.34375\n",
              "1195   19  female  27.930         3     no  northwest  18838.70366\n",
              "1204   18  female  27.280         3    yes  southeast  18223.45120"
            ]
          },
          "metadata": {
            "tags": []
          },
          "execution_count": 72
        }
      ]
    },
    {
      "cell_type": "code",
      "metadata": {
        "id": "1cgP6_HCcAp1"
      },
      "source": [
        "insurance_df = insurance_df.loc[~((insurance_df.age < 21) & (insurance_df.children > 2))]"
      ],
      "execution_count": null,
      "outputs": []
    },
    {
      "cell_type": "code",
      "metadata": {
        "colab": {
          "base_uri": "https://localhost:8080/",
          "height": 49
        },
        "id": "QN-8i12efX96",
        "outputId": "ac7e17f2-5f21-424f-e926-de067eafb041"
      },
      "source": [
        "#qa:\n",
        "insurance_df.loc[(insurance_df.age < 21) & (insurance_df.children > 2)]"
      ],
      "execution_count": null,
      "outputs": [
        {
          "output_type": "execute_result",
          "data": {
            "text/html": [
              "<div>\n",
              "<style scoped>\n",
              "    .dataframe tbody tr th:only-of-type {\n",
              "        vertical-align: middle;\n",
              "    }\n",
              "\n",
              "    .dataframe tbody tr th {\n",
              "        vertical-align: top;\n",
              "    }\n",
              "\n",
              "    .dataframe thead th {\n",
              "        text-align: right;\n",
              "    }\n",
              "</style>\n",
              "<table border=\"1\" class=\"dataframe\">\n",
              "  <thead>\n",
              "    <tr style=\"text-align: right;\">\n",
              "      <th></th>\n",
              "      <th>age</th>\n",
              "      <th>sex</th>\n",
              "      <th>bmi</th>\n",
              "      <th>children</th>\n",
              "      <th>smoker</th>\n",
              "      <th>region</th>\n",
              "      <th>charges</th>\n",
              "    </tr>\n",
              "  </thead>\n",
              "  <tbody>\n",
              "  </tbody>\n",
              "</table>\n",
              "</div>"
            ],
            "text/plain": [
              "Empty DataFrame\n",
              "Columns: [age, sex, bmi, children, smoker, region, charges]\n",
              "Index: []"
            ]
          },
          "metadata": {
            "tags": []
          },
          "execution_count": 74
        }
      ]
    },
    {
      "cell_type": "code",
      "metadata": {
        "colab": {
          "base_uri": "https://localhost:8080/"
        },
        "id": "hadg-BXz1GI2",
        "outputId": "e1527c38-5993-44d9-b35e-9677aa08b200"
      },
      "source": [
        "#data frame info after data cleaning:\n",
        "insurance_df.info()"
      ],
      "execution_count": null,
      "outputs": [
        {
          "output_type": "stream",
          "text": [
            "<class 'pandas.core.frame.DataFrame'>\n",
            "Int64Index: 1329 entries, 0 to 1337\n",
            "Data columns (total 7 columns):\n",
            " #   Column    Non-Null Count  Dtype  \n",
            "---  ------    --------------  -----  \n",
            " 0   age       1329 non-null   int64  \n",
            " 1   sex       1329 non-null   object \n",
            " 2   bmi       1329 non-null   float64\n",
            " 3   children  1329 non-null   int64  \n",
            " 4   smoker    1329 non-null   object \n",
            " 5   region    1329 non-null   object \n",
            " 6   charges   1329 non-null   float64\n",
            "dtypes: float64(2), int64(2), object(3)\n",
            "memory usage: 83.1+ KB\n"
          ],
          "name": "stdout"
        }
      ]
    },
    {
      "cell_type": "markdown",
      "metadata": {
        "id": "jXT9fGfXcpJT"
      },
      "source": [
        "# Visualizations"
      ]
    },
    {
      "cell_type": "markdown",
      "metadata": {
        "id": "Eqtyw5eDc3bn"
      },
      "source": [
        "### Single variables distribution"
      ]
    },
    {
      "cell_type": "code",
      "metadata": {
        "id": "0WrW071aWnqs",
        "colab": {
          "base_uri": "https://localhost:8080/",
          "height": 366
        },
        "outputId": "cd1ab720-4866-4065-a1e5-3276b9cc90c0"
      },
      "source": [
        "sns.countplot(insurance_df['sex']);\n",
        "plt.show()"
      ],
      "execution_count": null,
      "outputs": [
        {
          "output_type": "display_data",
          "data": {
            "image/png": "[encoded data removed]",
            "text/plain": [
              "<Figure size 576x396 with 1 Axes>"
            ]
          },
          "metadata": {
            "tags": []
          }
        }
      ]
    },
    {
      "cell_type": "markdown",
      "metadata": {
        "id": "dbpB8ypPYO5M"
      },
      "source": [
        "There is almost equal number of males and females."
      ]
    },
    {
      "cell_type": "code",
      "metadata": {
        "colab": {
          "base_uri": "https://localhost:8080/",
          "height": 364
        },
        "id": "OulaCKCYeGOC",
        "outputId": "d52e9cfb-03a2-4888-8841-6dac6777aca9"
      },
      "source": [
        "sns.countplot(insurance_df['smoker']);\n",
        "plt.show()"
      ],
      "execution_count": null,
      "outputs": [
        {
          "output_type": "display_data",
          "data": {
            "image/png": "[encoded data removed]",
            "text/plain": [
              "<Figure size 576x396 with 1 Axes>"
            ]
          },
          "metadata": {
            "tags": []
          }
        }
      ]
    },
    {
      "cell_type": "markdown",
      "metadata": {
        "id": "nmvzmiiqYVED"
      },
      "source": [
        "Most of the people are non-smokers."
      ]
    },
    {
      "cell_type": "code",
      "metadata": {
        "colab": {
          "base_uri": "https://localhost:8080/",
          "height": 368
        },
        "id": "KybpDOpffH4a",
        "outputId": "48b480a9-23a5-448b-9fd8-57a2f8e5112c"
      },
      "source": [
        "sns.countplot(insurance_df['children'])\n",
        "plt.show()"
      ],
      "execution_count": null,
      "outputs": [
        {
          "output_type": "display_data",
          "data": {
            "image/png": "[encoded data removed]",
            "text/plain": [
              "<Figure size 576x396 with 1 Axes>"
            ]
          },
          "metadata": {
            "tags": []
          }
        }
      ]
    },
    {
      "cell_type": "markdown",
      "metadata": {
        "id": "J2dl72y6YdO0"
      },
      "source": [
        "People have between 0 and 5 children. The tendency is to have less children than more children."
      ]
    },
    {
      "cell_type": "code",
      "metadata": {
        "colab": {
          "base_uri": "https://localhost:8080/",
          "height": 364
        },
        "id": "ANNjymX4X_7U",
        "outputId": "503c96ec-4f09-4553-c19f-0cf961f10796"
      },
      "source": [
        "sns.countplot(insurance_df['region'])\n",
        "plt.show()"
      ],
      "execution_count": null,
      "outputs": [
        {
          "output_type": "display_data",
          "data": {
            "image/png": "[encoded data removed]",
            "text/plain": [
              "<Figure size 576x396 with 1 Axes>"
            ]
          },
          "metadata": {
            "tags": []
          }
        }
      ]
    },
    {
      "cell_type": "markdown",
      "metadata": {
        "id": "8xDcDX3rZs9e"
      },
      "source": [
        "People are distributed almost equally between regions."
      ]
    },
    {
      "cell_type": "markdown",
      "metadata": {
        "id": "JCAIxRj1feWR"
      },
      "source": [
        "Note: during presenting visualizations, we discovered something weird in the children countplot - we didn't see all the data. This helped us to understand that we've made a mistake earlier during outliers filtering."
      ]
    },
    {
      "cell_type": "code",
      "metadata": {
        "colab": {
          "base_uri": "https://localhost:8080/",
          "height": 367
        },
        "id": "gLCu-nbhXCbF",
        "outputId": "eed0e016-ae66-4d60-863d-be38464af86b"
      },
      "source": [
        "sns.distplot(insurance_df['age'])\n",
        "plt.show()"
      ],
      "execution_count": null,
      "outputs": [
        {
          "output_type": "display_data",
          "data": {
            "image/png": "[encoded data removed]",
            "text/plain": [
              "<Figure size 576x396 with 1 Axes>"
            ]
          },
          "metadata": {
            "tags": []
          }
        }
      ]
    },
    {
      "cell_type": "markdown",
      "metadata": {
        "id": "pVzWc7-fifCV"
      },
      "source": [
        "Looks like age has a uniform distribution type."
      ]
    },
    {
      "cell_type": "code",
      "metadata": {
        "colab": {
          "base_uri": "https://localhost:8080/",
          "height": 366
        },
        "id": "NBsi8Pujaxbr",
        "outputId": "d9f3786b-001e-4460-bcf4-3bdff7d79723"
      },
      "source": [
        "sns.distplot(insurance_df['bmi'])\n",
        "plt.show()"
      ],
      "execution_count": null,
      "outputs": [
        {
          "output_type": "display_data",
          "data": {
            "image/png": "[encoded data removed]",
            "text/plain": [
              "<Figure size 576x396 with 1 Axes>"
            ]
          },
          "metadata": {
            "tags": []
          }
        }
      ]
    },
    {
      "cell_type": "markdown",
      "metadata": {
        "id": "GhE5PRKsYC0u"
      },
      "source": [
        "It seems that bmi is normally distributed."
      ]
    },
    {
      "cell_type": "code",
      "metadata": {
        "colab": {
          "base_uri": "https://localhost:8080/",
          "height": 375
        },
        "id": "Ij0fkFuFnpye",
        "outputId": "c272c5ca-f826-4872-f12b-4edfbe6a4b70"
      },
      "source": [
        "sns.distplot(insurance_df['charges'])\n",
        "plt.show()"
      ],
      "execution_count": null,
      "outputs": [
        {
          "output_type": "display_data",
          "data": {
            "image/png": "[encoded data removed]",
            "text/plain": [
              "<Figure size 576x396 with 1 Axes>"
            ]
          },
          "metadata": {
            "tags": []
          }
        }
      ]
    },
    {
      "cell_type": "markdown",
      "metadata": {
        "id": "KtbYkRm-kAbt"
      },
      "source": [
        "Charges are positively skewed as long tail is at right side (mean>median)."
      ]
    },
    {
      "cell_type": "markdown",
      "metadata": {
        "id": "knsUWYlEvXQW"
      },
      "source": [
        "### Correlation Matrix"
      ]
    },
    {
      "cell_type": "code",
      "metadata": {
        "id": "jMlOqKAXAn0-"
      },
      "source": [
        "#class to encode and inverse a few categorical features at once\n",
        "class MultiColumnLabelEncoder:\n",
        "\n",
        "    def __init__(self, columns=None):\n",
        "        self.columns = columns #array of column names to encode\n",
        "\n",
        "\n",
        "    def fit(self, X, y=None):\n",
        "        self.encoders = {}\n",
        "        columns = X.columns if self.columns is None else self.columns\n",
        "        for col in columns:\n",
        "            self.encoders[col] = LabelEncoder().fit(X[col])\n",
        "        return self\n",
        "\n",
        "\n",
        "    def transform(self, X):\n",
        "        output = X.copy()\n",
        "        columns = X.columns if self.columns is None else self.columns\n",
        "        for col in columns:\n",
        "            output[col] = self.encoders[col].transform(X[col])\n",
        "        return output\n",
        "\n",
        "\n",
        "    def fit_transform(self, X, y=None):\n",
        "        return self.fit(X,y).transform(X)\n",
        "\n",
        "\n",
        "    def inverse_transform(self, X):\n",
        "        output = X.copy()\n",
        "        columns = X.columns if self.columns is None else self.columns\n",
        "        for col in columns:\n",
        "            output[col] = self.encoders[col].inverse_transform(X[col])\n",
        "        return output"
      ],
      "execution_count": null,
      "outputs": []
    },
    {
      "cell_type": "code",
      "metadata": {
        "colab": {
          "base_uri": "https://localhost:8080/",
          "height": 204
        },
        "id": "NJpUnVPMtrIn",
        "outputId": "6ed3c657-9632-403f-83e0-3ba3e1a54434"
      },
      "source": [
        "#let's analyze the relationship between the data variables. First we need to encode categorical features.\n",
        "from sklearn.preprocessing import LabelEncoder\n",
        "multi = MultiColumnLabelEncoder(columns=['sex','smoker','region'])\n",
        "insurance_df = multi.fit_transform(insurance_df)\n",
        "insurance_df.head()\n"
      ],
      "execution_count": null,
      "outputs": [
        {
          "output_type": "execute_result",
          "data": {
            "text/html": [
              "<div>\n",
              "<style scoped>\n",
              "    .dataframe tbody tr th:only-of-type {\n",
              "        vertical-align: middle;\n",
              "    }\n",
              "\n",
              "    .dataframe tbody tr th {\n",
              "        vertical-align: top;\n",
              "    }\n",
              "\n",
              "    .dataframe thead th {\n",
              "        text-align: right;\n",
              "    }\n",
              "</style>\n",
              "<table border=\"1\" class=\"dataframe\">\n",
              "  <thead>\n",
              "    <tr style=\"text-align: right;\">\n",
              "      <th></th>\n",
              "      <th>age</th>\n",
              "      <th>sex</th>\n",
              "      <th>bmi</th>\n",
              "      <th>children</th>\n",
              "      <th>smoker</th>\n",
              "      <th>region</th>\n",
              "      <th>charges</th>\n",
              "    </tr>\n",
              "  </thead>\n",
              "  <tbody>\n",
              "    <tr>\n",
              "      <th>0</th>\n",
              "      <td>19</td>\n",
              "      <td>0</td>\n",
              "      <td>27.900</td>\n",
              "      <td>0</td>\n",
              "      <td>1</td>\n",
              "      <td>3</td>\n",
              "      <td>16884.92400</td>\n",
              "    </tr>\n",
              "    <tr>\n",
              "      <th>1</th>\n",
              "      <td>18</td>\n",
              "      <td>1</td>\n",
              "      <td>33.770</td>\n",
              "      <td>1</td>\n",
              "      <td>0</td>\n",
              "      <td>2</td>\n",
              "      <td>1725.55230</td>\n",
              "    </tr>\n",
              "    <tr>\n",
              "      <th>2</th>\n",
              "      <td>28</td>\n",
              "      <td>1</td>\n",
              "      <td>33.000</td>\n",
              "      <td>3</td>\n",
              "      <td>0</td>\n",
              "      <td>2</td>\n",
              "      <td>4449.46200</td>\n",
              "    </tr>\n",
              "    <tr>\n",
              "      <th>3</th>\n",
              "      <td>33</td>\n",
              "      <td>1</td>\n",
              "      <td>22.705</td>\n",
              "      <td>0</td>\n",
              "      <td>0</td>\n",
              "      <td>1</td>\n",
              "      <td>21984.47061</td>\n",
              "    </tr>\n",
              "    <tr>\n",
              "      <th>4</th>\n",
              "      <td>32</td>\n",
              "      <td>1</td>\n",
              "      <td>28.880</td>\n",
              "      <td>0</td>\n",
              "      <td>0</td>\n",
              "      <td>1</td>\n",
              "      <td>3866.85520</td>\n",
              "    </tr>\n",
              "  </tbody>\n",
              "</table>\n",
              "</div>"
            ],
            "text/plain": [
              "   age  sex     bmi  children  smoker  region      charges\n",
              "0   19    0  27.900         0       1       3  16884.92400\n",
              "1   18    1  33.770         1       0       2   1725.55230\n",
              "2   28    1  33.000         3       0       2   4449.46200\n",
              "3   33    1  22.705         0       0       1  21984.47061\n",
              "4   32    1  28.880         0       0       1   3866.85520"
            ]
          },
          "metadata": {
            "tags": []
          },
          "execution_count": 84
        }
      ]
    },
    {
      "cell_type": "code",
      "metadata": {
        "colab": {
          "base_uri": "https://localhost:8080/",
          "height": 490
        },
        "id": "mZmEB-v4umEf",
        "outputId": "51eb71b7-aac7-4e23-c161-002b73deb74d"
      },
      "source": [
        "f, ax = plt.subplots(figsize=(10, 8))\n",
        "corr = insurance_df.corr()\n",
        "sns.heatmap(corr, cmap=sns.diverging_palette(240,10,as_cmap=True),\n",
        "            square=True, ax=ax);"
      ],
      "execution_count": null,
      "outputs": [
        {
          "output_type": "display_data",
          "data": {
            "image/png": "[encoded data removed]",
            "text/plain": [
              "<Figure size 720x576 with 2 Axes>"
            ]
          },
          "metadata": {
            "tags": []
          }
        }
      ]
    },
    {
      "cell_type": "markdown",
      "metadata": {
        "id": "wnAvWZlfy5_n"
      },
      "source": [
        "We see strong correlation between smoking and charges which is quite obvious. Age also seems to have a correlation with charges.\n",
        "It's a bit strange that bmi doesn't seem to have a significant correlation with charges.\n",
        "It would also be interesting to investigate bmi & region, and sex & smoker."
      ]
    },
    {
      "cell_type": "code",
      "metadata": {
        "colab": {
          "base_uri": "https://localhost:8080/",
          "height": 204
        },
        "id": "OHYtjxB-3_FB",
        "outputId": "1f794f12-5aba-4e21-9619-47afed97ff4e"
      },
      "source": [
        "#transform labels back to original encoding\n",
        "insurance_df = multi.inverse_transform(insurance_df)\n",
        "insurance_df.head()"
      ],
      "execution_count": null,
      "outputs": [
        {
          "output_type": "execute_result",
          "data": {
            "text/html": [
              "<div>\n",
              "<style scoped>\n",
              "    .dataframe tbody tr th:only-of-type {\n",
              "        vertical-align: middle;\n",
              "    }\n",
              "\n",
              "    .dataframe tbody tr th {\n",
              "        vertical-align: top;\n",
              "    }\n",
              "\n",
              "    .dataframe thead th {\n",
              "        text-align: right;\n",
              "    }\n",
              "</style>\n",
              "<table border=\"1\" class=\"dataframe\">\n",
              "  <thead>\n",
              "    <tr style=\"text-align: right;\">\n",
              "      <th></th>\n",
              "      <th>age</th>\n",
              "      <th>sex</th>\n",
              "      <th>bmi</th>\n",
              "      <th>children</th>\n",
              "      <th>smoker</th>\n",
              "      <th>region</th>\n",
              "      <th>charges</th>\n",
              "    </tr>\n",
              "  </thead>\n",
              "  <tbody>\n",
              "    <tr>\n",
              "      <th>0</th>\n",
              "      <td>19</td>\n",
              "      <td>female</td>\n",
              "      <td>27.900</td>\n",
              "      <td>0</td>\n",
              "      <td>yes</td>\n",
              "      <td>southwest</td>\n",
              "      <td>16884.92400</td>\n",
              "    </tr>\n",
              "    <tr>\n",
              "      <th>1</th>\n",
              "      <td>18</td>\n",
              "      <td>male</td>\n",
              "      <td>33.770</td>\n",
              "      <td>1</td>\n",
              "      <td>no</td>\n",
              "      <td>southeast</td>\n",
              "      <td>1725.55230</td>\n",
              "    </tr>\n",
              "    <tr>\n",
              "      <th>2</th>\n",
              "      <td>28</td>\n",
              "      <td>male</td>\n",
              "      <td>33.000</td>\n",
              "      <td>3</td>\n",
              "      <td>no</td>\n",
              "      <td>southeast</td>\n",
              "      <td>4449.46200</td>\n",
              "    </tr>\n",
              "    <tr>\n",
              "      <th>3</th>\n",
              "      <td>33</td>\n",
              "      <td>male</td>\n",
              "      <td>22.705</td>\n",
              "      <td>0</td>\n",
              "      <td>no</td>\n",
              "      <td>northwest</td>\n",
              "      <td>21984.47061</td>\n",
              "    </tr>\n",
              "    <tr>\n",
              "      <th>4</th>\n",
              "      <td>32</td>\n",
              "      <td>male</td>\n",
              "      <td>28.880</td>\n",
              "      <td>0</td>\n",
              "      <td>no</td>\n",
              "      <td>northwest</td>\n",
              "      <td>3866.85520</td>\n",
              "    </tr>\n",
              "  </tbody>\n",
              "</table>\n",
              "</div>"
            ],
            "text/plain": [
              "   age     sex     bmi  children smoker     region      charges\n",
              "0   19  female  27.900         0    yes  southwest  16884.92400\n",
              "1   18    male  33.770         1     no  southeast   1725.55230\n",
              "2   28    male  33.000         3     no  southeast   4449.46200\n",
              "3   33    male  22.705         0     no  northwest  21984.47061\n",
              "4   32    male  28.880         0     no  northwest   3866.85520"
            ]
          },
          "metadata": {
            "tags": []
          },
          "execution_count": 86
        }
      ]
    },
    {
      "cell_type": "markdown",
      "metadata": {
        "id": "a3QBXW6fZ9cy"
      },
      "source": [
        "### Distribution of variables against others"
      ]
    },
    {
      "cell_type": "code",
      "metadata": {
        "colab": {
          "base_uri": "https://localhost:8080/",
          "height": 400
        },
        "id": "bnvxEddhJrS7",
        "outputId": "ff6f6aea-1891-4061-ac62-a6ce0bef5a41"
      },
      "source": [
        "#bmi & region\n",
        "sns.catplot(x=\"region\", y=\"bmi\", kind=\"box\", data=insurance_df)"
      ],
      "execution_count": null,
      "outputs": [
        {
          "output_type": "execute_result",
          "data": {
            "text/plain": [
              "<seaborn.axisgrid.FacetGrid at 0x7f092ae6b710>"
            ]
          },
          "metadata": {
            "tags": []
          },
          "execution_count": 87
        },
        {
          "output_type": "display_data",
          "data": {
            "image/png": "[encoded data removed]",
            "text/plain": [
              "<Figure size 360x360 with 1 Axes>"
            ]
          },
          "metadata": {
            "tags": []
          }
        }
      ]
    },
    {
      "cell_type": "markdown",
      "metadata": {
        "id": "04uJTK5qMaCG"
      },
      "source": [
        "In southeast bmi is bigger than in other regions. Let's investigate this region and see if the people who leave there get more medical charges:"
      ]
    },
    {
      "cell_type": "code",
      "metadata": {
        "colab": {
          "base_uri": "https://localhost:8080/",
          "height": 400
        },
        "id": "cEU2BdnJP5-d",
        "outputId": "dfc3976b-cdc3-457e-9495-1bea7b68d9f6"
      },
      "source": [
        "#charges & region\n",
        "sns.catplot(x=\"region\", y=\"charges\", kind=\"box\", data=insurance_df)"
      ],
      "execution_count": null,
      "outputs": [
        {
          "output_type": "execute_result",
          "data": {
            "text/plain": [
              "<seaborn.axisgrid.FacetGrid at 0x7f092ae6ba90>"
            ]
          },
          "metadata": {
            "tags": []
          },
          "execution_count": 88
        },
        {
          "output_type": "display_data",
          "data": {
            "image/png": "[encoded data removed]",
            "text/plain": [
              "<Figure size 360x360 with 1 Axes>"
            ]
          },
          "metadata": {
            "tags": []
          }
        }
      ]
    },
    {
      "cell_type": "code",
      "metadata": {
        "colab": {
          "base_uri": "https://localhost:8080/"
        },
        "id": "hnQ-jvHxQqU9",
        "outputId": "63206191-0204-4a00-e349-62adef23acf2"
      },
      "source": [
        "insurance_df.groupby(['region']).charges.mean()"
      ],
      "execution_count": null,
      "outputs": [
        {
          "output_type": "execute_result",
          "data": {
            "text/plain": [
              "region\n",
              "northeast    13491.309866\n",
              "northwest    12353.317969\n",
              "southeast    14725.802513\n",
              "southwest    12393.920188\n",
              "Name: charges, dtype: float64"
            ]
          },
          "metadata": {
            "tags": []
          },
          "execution_count": 89
        }
      ]
    },
    {
      "cell_type": "code",
      "metadata": {
        "colab": {
          "base_uri": "https://localhost:8080/"
        },
        "id": "hERLAhAeOV6w",
        "outputId": "b9334d0a-ca73-46ab-c67e-de661b8d9188"
      },
      "source": [
        "insurance_df[~(insurance_df.region=='southeast')]['charges'].mean()"
      ],
      "execution_count": null,
      "outputs": [
        {
          "output_type": "execute_result",
          "data": {
            "text/plain": [
              "12745.046660050715"
            ]
          },
          "metadata": {
            "tags": []
          },
          "execution_count": 92
        }
      ]
    },
    {
      "cell_type": "code",
      "metadata": {
        "colab": {
          "base_uri": "https://localhost:8080/",
          "height": 353
        },
        "id": "ULNWAuLWNjYG",
        "outputId": "3881cc0f-f27d-4dd8-f586-040b47597450"
      },
      "source": [
        "plt.figure(figsize=(12,5))\n",
        "plt.title(\"Distribution of charges for patients from Southeast\")\n",
        "ax = sns.distplot(insurance_df[(insurance_df.region=='southeast')]['charges'], color = 'b')"
      ],
      "execution_count": null,
      "outputs": [
        {
          "output_type": "display_data",
          "data": {
            "image/png": "[encoded data removed]",
            "text/plain": [
              "<Figure size 864x360 with 1 Axes>"
            ]
          },
          "metadata": {
            "tags": []
          }
        }
      ]
    },
    {
      "cell_type": "markdown",
      "metadata": {
        "id": "vl5VXJX9O2yH"
      },
      "source": [
        "Indeed people from southeast get more charges on average than people from other regions (14735 vs 12722)."
      ]
    },
    {
      "cell_type": "code",
      "metadata": {
        "colab": {
          "base_uri": "https://localhost:8080/",
          "height": 400
        },
        "id": "-CX8DzrBHylx",
        "outputId": "185fc81e-690d-4b4b-88af-e5f4d60d8ac5"
      },
      "source": [
        "#sex & smoker:\n",
        "sns.catplot(x=\"smoker\", kind=\"count\", hue = 'sex', palette=\"husl\", data=insurance_df)"
      ],
      "execution_count": null,
      "outputs": [
        {
          "output_type": "execute_result",
          "data": {
            "text/plain": [
              "<seaborn.axisgrid.FacetGrid at 0x7f09364a2410>"
            ]
          },
          "metadata": {
            "tags": []
          },
          "execution_count": 94
        },
        {
          "output_type": "display_data",
          "data": {
            "image/png": "[encoded data removed]",
            "text/plain": [
              "<Figure size 430.5x360 with 1 Axes>"
            ]
          },
          "metadata": {
            "tags": []
          }
        }
      ]
    },
    {
      "cell_type": "markdown",
      "metadata": {
        "id": "qLGi7IcQJb1J"
      },
      "source": [
        "There are more smokers among men than among women."
      ]
    },
    {
      "cell_type": "code",
      "metadata": {
        "colab": {
          "base_uri": "https://localhost:8080/",
          "height": 204
        },
        "id": "0oWMqZr6i0B5",
        "outputId": "25632dda-0191-4a02-c431-2f9dfeea550e"
      },
      "source": [
        "#we wonder if there is a difference of number of smokers between regions\n",
        "pd.crosstab(insurance_df['region'],insurance_df['smoker']) #normalize=True)"
      ],
      "execution_count": null,
      "outputs": [
        {
          "output_type": "execute_result",
          "data": {
            "text/html": [
              "<div>\n",
              "<style scoped>\n",
              "    .dataframe tbody tr th:only-of-type {\n",
              "        vertical-align: middle;\n",
              "    }\n",
              "\n",
              "    .dataframe tbody tr th {\n",
              "        vertical-align: top;\n",
              "    }\n",
              "\n",
              "    .dataframe thead th {\n",
              "        text-align: right;\n",
              "    }\n",
              "</style>\n",
              "<table border=\"1\" class=\"dataframe\">\n",
              "  <thead>\n",
              "    <tr style=\"text-align: right;\">\n",
              "      <th>smoker</th>\n",
              "      <th>no</th>\n",
              "      <th>yes</th>\n",
              "    </tr>\n",
              "    <tr>\n",
              "      <th>region</th>\n",
              "      <th></th>\n",
              "      <th></th>\n",
              "    </tr>\n",
              "  </thead>\n",
              "  <tbody>\n",
              "    <tr>\n",
              "      <th>northeast</th>\n",
              "      <td>254</td>\n",
              "      <td>67</td>\n",
              "    </tr>\n",
              "    <tr>\n",
              "      <th>northwest</th>\n",
              "      <td>265</td>\n",
              "      <td>57</td>\n",
              "    </tr>\n",
              "    <tr>\n",
              "      <th>southeast</th>\n",
              "      <td>273</td>\n",
              "      <td>90</td>\n",
              "    </tr>\n",
              "    <tr>\n",
              "      <th>southwest</th>\n",
              "      <td>265</td>\n",
              "      <td>58</td>\n",
              "    </tr>\n",
              "  </tbody>\n",
              "</table>\n",
              "</div>"
            ],
            "text/plain": [
              "smoker      no  yes\n",
              "region             \n",
              "northeast  254   67\n",
              "northwest  265   57\n",
              "southeast  273   90\n",
              "southwest  265   58"
            ]
          },
          "metadata": {
            "tags": []
          },
          "execution_count": 95
        }
      ]
    },
    {
      "cell_type": "code",
      "metadata": {
        "colab": {
          "base_uri": "https://localhost:8080/",
          "height": 364
        },
        "id": "72dHjGoDk_Zo",
        "outputId": "0fd1a993-9812-44f1-b871-d92a838eda6f"
      },
      "source": [
        "#graphically display number of smokers by regions\n",
        "sns.countplot(insurance_df['region'],hue=insurance_df['smoker'])\n",
        "plt.show()"
      ],
      "execution_count": null,
      "outputs": [
        {
          "output_type": "display_data",
          "data": {
            "image/png": "[encoded data removed]",
            "text/plain": [
              "<Figure size 576x396 with 1 Axes>"
            ]
          },
          "metadata": {
            "tags": []
          }
        }
      ]
    },
    {
      "cell_type": "markdown",
      "metadata": {
        "id": "s1PFA2w3jvB3"
      },
      "source": [
        "From the above we didn't find anything significant or interesting."
      ]
    },
    {
      "cell_type": "markdown",
      "metadata": {
        "id": "_SJOPGgtgLHy"
      },
      "source": [
        "# Statistical Tests"
      ]
    },
    {
      "cell_type": "markdown",
      "metadata": {
        "id": "xz6MIwXmo5lE"
      },
      "source": [
        "We'll answer the following questions using T-test:\n",
        "1. Does smoking influence charges?\n",
        "2. Does number of children influence charges?\n",
        "3. Does gender influence bmi?\n",
        "\n",
        "We'll answer the following questions using Chi-square test:\n",
        "4. Is there a difference in proportion of smokers in different genders?\n",
        "5. Is there a difference in size of families in different regions?"
      ]
    },
    {
      "cell_type": "markdown",
      "metadata": {
        "id": "AZ4-nU19olHp"
      },
      "source": [
        "## T-tests"
      ]
    },
    {
      "cell_type": "markdown",
      "metadata": {
        "id": "Iq-l3UbtvlJy"
      },
      "source": [
        "For the following 3 questions we'll perform T-test because we observe two independent samples from the same or different population. A T-test requires two variables: one must be categorical and have exactly two levels (smoking, family size, gender), and the other must be quantitative and be estimable by a mean (charges, bmi).\n",
        "If we observe a large p-value, for example larger than 0.05 or 0.1, then we cannot reject the null hypothesis of identical average scores. If the p-value is smaller than the threshold, e.g. 1%, 5% or 10%, then we reject the null hypothesis of equal averages."
      ]
    },
    {
      "cell_type": "markdown",
      "metadata": {
        "id": "-FyirS0YnPNR"
      },
      "source": [
        "### 1. Does smoking influence charges?"
      ]
    },
    {
      "cell_type": "markdown",
      "metadata": {
        "id": "ZUWCsV_UqB_t"
      },
      "source": [
        "\n",
        "- H0: Smoking doesn't influence charges\n",
        "- H1: Smoking influence charges"
      ]
    },
    {
      "cell_type": "code",
      "metadata": {
        "id": "4WS1sDVgqPiE"
      },
      "source": [
        "#creating 2 series - charges for smokers and charges for non-smokers\n",
        "x = insurance_df[insurance_df['smoker'] == 'yes']['charges']\n",
        "y = insurance_df[insurance_df['smoker'] == 'no']['charges']"
      ],
      "execution_count": null,
      "outputs": []
    },
    {
      "cell_type": "code",
      "metadata": {
        "colab": {
          "base_uri": "https://localhost:8080/",
          "height": 370
        },
        "id": "YiQvCD3kDSWs",
        "outputId": "d9984cf3-ecff-4610-ceaf-6a47d7877760"
      },
      "source": [
        "f = plt.figure(figsize=(12,5))\n",
        "\n",
        "ax = f.add_subplot(121)\n",
        "sns.distplot(x,color='c',ax=ax)\n",
        "ax.set_title('Distribution of charges for smokers')\n",
        "\n",
        "ax = f.add_subplot(122)\n",
        "sns.distplot(y,color='b',ax=ax)\n",
        "ax.set_title('Distribution of charges for non-smokers')"
      ],
      "execution_count": null,
      "outputs": [
        {
          "output_type": "execute_result",
          "data": {
            "text/plain": [
              "Text(0.5, 1.0, 'Distribution of charges for non-smokers')"
            ]
          },
          "metadata": {
            "tags": []
          },
          "execution_count": 98
        },
        {
          "output_type": "display_data",
          "data": {
            "image/png": "[encoded data removed]",
            "text/plain": [
              "<Figure size 864x360 with 2 Axes>"
            ]
          },
          "metadata": {
            "tags": []
          }
        }
      ]
    },
    {
      "cell_type": "code",
      "metadata": {
        "colab": {
          "base_uri": "https://localhost:8080/",
          "height": 370
        },
        "id": "DzlmFQdVnmqp",
        "outputId": "3c34afea-8705-4d54-b0ad-56471a9179fd"
      },
      "source": [
        "f = plt.figure(figsize=(12,5))\n",
        "\n",
        "ax = f.add_subplot(121)\n",
        "sns.boxplot(x,color='c',ax=ax)\n",
        "ax.set_title('Box plot of charges for smokers')\n",
        "\n",
        "ax = f.add_subplot(122)\n",
        "sns.boxplot(y,color='b',ax=ax)\n",
        "ax.set_title('Box plot of charges for non-smokers')"
      ],
      "execution_count": null,
      "outputs": [
        {
          "output_type": "execute_result",
          "data": {
            "text/plain": [
              "Text(0.5, 1.0, 'Box plot of charges for non-smokers')"
            ]
          },
          "metadata": {
            "tags": []
          },
          "execution_count": 99
        },
        {
          "output_type": "display_data",
          "data": {
            "image/png": "[encoded data removed]",
            "text/plain": [
              "<Figure size 864x360 with 2 Axes>"
            ]
          },
          "metadata": {
            "tags": []
          }
        }
      ]
    },
    {
      "cell_type": "markdown",
      "metadata": {
        "id": "EpPpH0SUTl8M"
      },
      "source": [
        "Based on the above charts, smokers get significantly higher charges. Let's see whether the statistical test confirmes it."
      ]
    },
    {
      "cell_type": "code",
      "metadata": {
        "colab": {
          "base_uri": "https://localhost:8080/"
        },
        "id": "X1B1EOO6wjRo",
        "outputId": "7f0d2862-14e9-4317-ee59-3b1e49ea887b"
      },
      "source": [
        "#T-test\n",
        "t, p_value = stats.ttest_ind(x,y,axis=0)\n",
        "if p_value > 0.05:\n",
        "  print(f\"p_value > 0.05 ({p_value}), therefore we stay with H0: smoking doesn't influence charges\")\n",
        "else:\n",
        "  print(f\"p_value <= 0.05 ({p_value}), therefore we reject H0 and accept H1: smoking influence charges\")"
      ],
      "execution_count": null,
      "outputs": [
        {
          "output_type": "stream",
          "text": [
            "p_value <= 0.05 (5.773088394805289e-281), therefore we reject H0 and accept H1: smoking influence charges\n"
          ],
          "name": "stdout"
        }
      ]
    },
    {
      "cell_type": "markdown",
      "metadata": {
        "id": "a4XmM43vnWLZ"
      },
      "source": [
        "### 2. Does number of children influence charges?"
      ]
    },
    {
      "cell_type": "markdown",
      "metadata": {
        "id": "JL6sS9wTyC6J"
      },
      "source": [
        "- H0: Number of children doesn't influence charges\n",
        "- H1: Number of children influence charges\n",
        "\n",
        "The number of children is numeric, therefore we wish to transform it to boolean value (small vs large families) in order to perform t-test."
      ]
    },
    {
      "cell_type": "code",
      "metadata": {
        "id": "RSffzdxfZZYP",
        "colab": {
          "base_uri": "https://localhost:8080/"
        },
        "outputId": "5c274dd9-4a44-475a-b934-7cab0a1d004f"
      },
      "source": [
        "#let's check the children's distribution\n",
        "insurance_df['children'].value_counts() "
      ],
      "execution_count": null,
      "outputs": [
        {
          "output_type": "execute_result",
          "data": {
            "text/plain": [
              "0    573\n",
              "1    324\n",
              "2    240\n",
              "3    153\n",
              "4     24\n",
              "5     15\n",
              "Name: children, dtype: int64"
            ]
          },
          "metadata": {
            "tags": []
          },
          "execution_count": 102
        }
      ]
    },
    {
      "cell_type": "code",
      "metadata": {
        "id": "pYIKQdDKZ4Tj",
        "colab": {
          "base_uri": "https://localhost:8080/"
        },
        "outputId": "125399bb-bec1-4598-ced2-0838d9638d98"
      },
      "source": [
        "insurance_df['is_large_family'] = insurance_df['children'] > 1\n",
        "insurance_df['is_large_family']"
      ],
      "execution_count": null,
      "outputs": [
        {
          "output_type": "execute_result",
          "data": {
            "text/plain": [
              "0       False\n",
              "1       False\n",
              "2        True\n",
              "3       False\n",
              "4       False\n",
              "        ...  \n",
              "1333     True\n",
              "1334    False\n",
              "1335    False\n",
              "1336    False\n",
              "1337    False\n",
              "Name: is_large_family, Length: 1329, dtype: bool"
            ]
          },
          "metadata": {
            "tags": []
          },
          "execution_count": 103
        }
      ]
    },
    {
      "cell_type": "code",
      "metadata": {
        "id": "7UmYoRzLoHOg",
        "colab": {
          "base_uri": "https://localhost:8080/"
        },
        "outputId": "5ca1173d-fbad-446e-c5ee-e0ea8f4db27e"
      },
      "source": [
        "insurance_df['is_large_family'].value_counts()"
      ],
      "execution_count": null,
      "outputs": [
        {
          "output_type": "execute_result",
          "data": {
            "text/plain": [
              "False    897\n",
              "True     432\n",
              "Name: is_large_family, dtype: int64"
            ]
          },
          "metadata": {
            "tags": []
          },
          "execution_count": 104
        }
      ]
    },
    {
      "cell_type": "code",
      "metadata": {
        "id": "4EnRvp4RapJf"
      },
      "source": [
        "#creating 2 Series - charges for large families and charges for small families\n",
        "x = insurance_df[insurance_df['is_large_family'] == True]['charges']\n",
        "y = insurance_df[insurance_df['is_large_family'] == False]['charges']"
      ],
      "execution_count": null,
      "outputs": []
    },
    {
      "cell_type": "code",
      "metadata": {
        "id": "C5sNh6fZbA7X",
        "colab": {
          "base_uri": "https://localhost:8080/"
        },
        "outputId": "0e8c6181-dc53-4b6b-e11f-c3a3d4dc104b"
      },
      "source": [
        "#T-test\n",
        "t, p_value = stats.ttest_ind(x,y,axis=0)\n",
        "if p_value > 0.05:\n",
        "  print(f\"p_value > 0.05 ({p_value}), therefore we stay with H0: number of children doesn't influence charges\")\n",
        "else:\n",
        "  print(f\"p_value <= 0.05 ({p_value}), therefore we reject H0 and accept H1: number of children influences charges\")"
      ],
      "execution_count": null,
      "outputs": [
        {
          "output_type": "stream",
          "text": [
            "p_value <= 0.05 (0.0007487786386212014), therefore we reject H0 and accept H1: number of children influences charges\n"
          ],
          "name": "stdout"
        }
      ]
    },
    {
      "cell_type": "markdown",
      "metadata": {
        "id": "7qazP2CenmSI"
      },
      "source": [
        "### 3. Does gender influence bmi?"
      ]
    },
    {
      "cell_type": "markdown",
      "metadata": {
        "id": "Ftlj__mnjGoi"
      },
      "source": [
        "- H0: Gender doesn't influence bmi\n",
        "- H1: Gender influences bmi"
      ]
    },
    {
      "cell_type": "code",
      "metadata": {
        "id": "WHfQjplQjB-r"
      },
      "source": [
        "#creating 2 Series - bmi for males and bmi for females\n",
        "x = insurance_df[insurance_df['sex'] == 'male']['bmi']\n",
        "y = insurance_df[insurance_df['sex'] == 'female']['bmi']"
      ],
      "execution_count": null,
      "outputs": []
    },
    {
      "cell_type": "code",
      "metadata": {
        "id": "rXgQFJ80jmTU",
        "colab": {
          "base_uri": "https://localhost:8080/"
        },
        "outputId": "f88ae46b-e6ab-4746-bbb7-344433f09de2"
      },
      "source": [
        "#T-test\n",
        "t, p_value = stats.ttest_ind(x,y,axis=0)\n",
        "if p_value > 0.05:\n",
        "  print(f\"p_value > 0.05 ({p_value}), therefore we stay with H0: gender doesn't influence bmi\")\n",
        "else:\n",
        "  print(f\"p_value <= 0.05 ({p_value}), therefore we reject H0 and accept H1: gender influences bmi\")"
      ],
      "execution_count": null,
      "outputs": [
        {
          "output_type": "stream",
          "text": [
            "p_value > 0.05 (0.09419144904453226), therefore we stay with H0: gender doesn't influence bmi\n"
          ],
          "name": "stdout"
        }
      ]
    },
    {
      "cell_type": "markdown",
      "metadata": {
        "id": "sG4re2q5oppS"
      },
      "source": [
        "## Chi-square tests"
      ]
    },
    {
      "cell_type": "markdown",
      "metadata": {
        "id": "Hhns5WEnn_2g"
      },
      "source": [
        "For the following 2 questions we'll perform Chi-square test.\n",
        "A chi-square test requires categorical variables, usually only two, but each may have any number of levels (smokers, gender, family size, coast).\n",
        "Having calculated the chi square value and degree of freedom, we consult a chi-square table (or use python scipy function stats.chi2.ppf()) to check whether the chi square statistics exceeds the critical value\n",
        "of the chi square distribution. If the statistics is larger than the critical value for alpha of 0.05 (95% confidence), we have sufficient evidence to reject the H0 (null hypothesis)."
      ]
    },
    {
      "cell_type": "markdown",
      "metadata": {
        "id": "n3EaKDDWowkH"
      },
      "source": [
        "### 4. Is there a difference in proportion of smokers in different genders?"
      ]
    },
    {
      "cell_type": "markdown",
      "metadata": {
        "id": "UudfGBYsq_nX"
      },
      "source": [
        "- H0: There is no difference in proportion of smokers in different genders\n",
        "- H1: There is a difference in proportion of smokers in different genders"
      ]
    },
    {
      "cell_type": "code",
      "metadata": {
        "id": "67TIFgfAsJUg",
        "colab": {
          "base_uri": "https://localhost:8080/",
          "height": 173
        },
        "outputId": "d615a15a-d72f-4e45-9375-852758d2cc32"
      },
      "source": [
        "cross_df = pd.crosstab(insurance_df['smoker'],insurance_df['sex'], margins=True, margins_name='Total')\n",
        "cross_df"
      ],
      "execution_count": null,
      "outputs": [
        {
          "output_type": "execute_result",
          "data": {
            "text/html": [
              "<div>\n",
              "<style scoped>\n",
              "    .dataframe tbody tr th:only-of-type {\n",
              "        vertical-align: middle;\n",
              "    }\n",
              "\n",
              "    .dataframe tbody tr th {\n",
              "        vertical-align: top;\n",
              "    }\n",
              "\n",
              "    .dataframe thead th {\n",
              "        text-align: right;\n",
              "    }\n",
              "</style>\n",
              "<table border=\"1\" class=\"dataframe\">\n",
              "  <thead>\n",
              "    <tr style=\"text-align: right;\">\n",
              "      <th>sex</th>\n",
              "      <th>female</th>\n",
              "      <th>male</th>\n",
              "      <th>Total</th>\n",
              "    </tr>\n",
              "    <tr>\n",
              "      <th>smoker</th>\n",
              "      <th></th>\n",
              "      <th></th>\n",
              "      <th></th>\n",
              "    </tr>\n",
              "  </thead>\n",
              "  <tbody>\n",
              "    <tr>\n",
              "      <th>no</th>\n",
              "      <td>543</td>\n",
              "      <td>514</td>\n",
              "      <td>1057</td>\n",
              "    </tr>\n",
              "    <tr>\n",
              "      <th>yes</th>\n",
              "      <td>114</td>\n",
              "      <td>158</td>\n",
              "      <td>272</td>\n",
              "    </tr>\n",
              "    <tr>\n",
              "      <th>Total</th>\n",
              "      <td>657</td>\n",
              "      <td>672</td>\n",
              "      <td>1329</td>\n",
              "    </tr>\n",
              "  </tbody>\n",
              "</table>\n",
              "</div>"
            ],
            "text/plain": [
              "sex     female  male  Total\n",
              "smoker                     \n",
              "no         543   514   1057\n",
              "yes        114   158    272\n",
              "Total      657   672   1329"
            ]
          },
          "metadata": {
            "tags": []
          },
          "execution_count": 109
        }
      ]
    },
    {
      "cell_type": "markdown",
      "metadata": {
        "id": "z6nY3wUU1Pu6"
      },
      "source": [
        "#### Observed values"
      ]
    },
    {
      "cell_type": "code",
      "metadata": {
        "id": "SQtRQ-nA00Eb",
        "colab": {
          "base_uri": "https://localhost:8080/"
        },
        "outputId": "45dfa13f-8a7d-4522-f0c6-d95c49ed51fa"
      },
      "source": [
        "O11 = cross_df.iloc[0,0]\n",
        "O12 = cross_df.iloc[0,1]\n",
        "O21 = cross_df.iloc[1,0]\n",
        "O22 = cross_df.iloc[1,1]\n",
        "\n",
        "print(f'Observed value of female non-smokers: {O11}')\n",
        "print(f'Observed value of male non-smokers: {O12}')\n",
        "print(f'Observed value of female smokers: {O21}')\n",
        "print(f'Observed value of male smokers: {O22}')"
      ],
      "execution_count": null,
      "outputs": [
        {
          "output_type": "stream",
          "text": [
            "Observed value of female non-smokers: 543\n",
            "Observed value of male non-smokers: 514\n",
            "Observed value of female smokers: 114\n",
            "Observed value of male smokers: 158\n"
          ],
          "name": "stdout"
        }
      ]
    },
    {
      "cell_type": "markdown",
      "metadata": {
        "id": "ejA5RYtB2M40"
      },
      "source": [
        "#### Observed values - totals "
      ]
    },
    {
      "cell_type": "code",
      "metadata": {
        "id": "m1omwXOWutBm",
        "colab": {
          "base_uri": "https://localhost:8080/"
        },
        "outputId": "62fb1aa8-ef61-4acb-8c32-575c9ebf39b2"
      },
      "source": [
        "total_population = cross_df.iloc[2,2]\n",
        "total_non_smokers = cross_df.iloc[0,2]\n",
        "total_smokers = cross_df.iloc[1,2]\n",
        "total_females = cross_df.iloc[2,0]\n",
        "total_males = cross_df.iloc[2,1]\n",
        "\n",
        "print(f'total population: {total_population}')\n",
        "print(f'total non smokers: {total_non_smokers}')\n",
        "print(f'total smokers: {total_smokers}')\n",
        "print(f'total females: {total_females}')\n",
        "print(f'total males: {total_males}')"
      ],
      "execution_count": null,
      "outputs": [
        {
          "output_type": "stream",
          "text": [
            "total population: 1329\n",
            "total non smokers: 1057\n",
            "total smokers: 272\n",
            "total females: 657\n",
            "total males: 672\n"
          ],
          "name": "stdout"
        }
      ]
    },
    {
      "cell_type": "markdown",
      "metadata": {
        "id": "7I9ffQiF74uO"
      },
      "source": [
        "#### Expected values"
      ]
    },
    {
      "cell_type": "code",
      "metadata": {
        "id": "ftDIYOJPq7m_",
        "colab": {
          "base_uri": "https://localhost:8080/"
        },
        "outputId": "4994d7f6-4b03-430d-b01e-1fd84659206e"
      },
      "source": [
        "#E11 = expected value of smoker=no and sex=female\n",
        "#E12 = expected value of smoker=no and sex=male\n",
        "#E21 = expected value of smoker=yes and sex=female\n",
        "#E22 = expected value of smoker=yes and sex=male\n",
        "\n",
        "E11 = total_non_smokers*(total_females/total_population)\n",
        "print(f'expected value of female non-smokers is {E11}')\n",
        "\n",
        "E12 = total_non_smokers*(total_males/total_population)\n",
        "print(f'expected value of male non-smokers is {E12}')\n",
        "\n",
        "E21 = total_smokers*(total_females/total_population)\n",
        "print(f'expected value of female smokers is {E21}')\n",
        "\n",
        "E22 = total_smokers*(total_males/total_population)\n",
        "print(f'expected value of male smokers is {E22}')\n",
        "\n",
        "#chi-square = summation((observed-expected)^2/expected)\n",
        "\n",
        "chiE11 = np.square(O11-E11)/E11\n",
        "print(f'chiE11 is {chiE11}')\n",
        "\n",
        "chiE12 = np.square(O12-E12)/E12\n",
        "print(f'chiE12 is {chiE12}')\n",
        "\n",
        "chiE21 = np.square(O21-E21)/E21\n",
        "print(f'chiE21 is {chiE21}')\n",
        "\n",
        "chiE22 = np.square(O22-E22)/E22\n",
        "print(f'chiE22 is {chiE22}')\n",
        "\n",
        "chisquare = chiE11 + chiE12 + chiE21 + chiE22\n",
        "print(f'chi-square value is {chisquare}')"
      ],
      "execution_count": null,
      "outputs": [
        {
          "output_type": "stream",
          "text": [
            "expected value of female non-smokers is 522.5349887133183\n",
            "expected value of male non-smokers is 534.4650112866817\n",
            "expected value of female smokers is 134.46501128668172\n",
            "expected value of male smokers is 137.53498871331828\n",
            "chiE11 is 0.8015093649428098\n",
            "chiE12 is 0.7836185309039078\n",
            "chiE21 is 3.11468896597261\n",
            "chiE22 is 3.0451646586964354\n",
            "chi-square value is 7.744981520515763\n"
          ],
          "name": "stdout"
        }
      ]
    },
    {
      "cell_type": "markdown",
      "metadata": {
        "id": "VFi78PZSpWGX"
      },
      "source": [
        "#### Compute chi-square critical value"
      ]
    },
    {
      "cell_type": "code",
      "metadata": {
        "id": "os2ocABHoUH7",
        "colab": {
          "base_uri": "https://localhost:8080/"
        },
        "outputId": "309103c9-86e6-4d04-f105-114b8c22dd17"
      },
      "source": [
        "alpha = 0.05\n",
        "significance_level = 1 - alpha\n",
        "deg_of_freedom = (2-1) * (2 -1)\n",
        "chi2_critical_value = stats.chi2.ppf(significance_level, deg_of_freedom)\n",
        "\n",
        "print(f'alpha is {alpha}, therefore significance level (confidence level) is {significance_level}')\n",
        "print(f'degree of freedom is {deg_of_freedom}')\n",
        "print(f'chi square critical value is {chi2_critical_value}')\n",
        "\n",
        "if chisquare < chi2_critical_value:\n",
        "    print(f'chi square value {chisquare} is smaller than critical value, therefore we stay with H0: there is no difference in proportion of smokers in different genders')\n",
        "else:\n",
        "    print(f'chi square value {chisquare} is larger than critical value, therefore we reject H0 and accept H1: there is a difference in proportion of smokers in different genders')"
      ],
      "execution_count": null,
      "outputs": [
        {
          "output_type": "stream",
          "text": [
            "alpha is 0.05, therefore significance level (confidence level) is 0.95\n",
            "degree of freedom is 1\n",
            "chi square critical value is 3.841458820694124\n",
            "chi square value 7.765921028604452 is larger than critical value, therefore we reject H0 and accept H1: there is a difference in proportions of smokers in different genders\n"
          ],
          "name": "stdout"
        }
      ]
    },
    {
      "cell_type": "markdown",
      "metadata": {
        "id": "7AgkUCWMo14w"
      },
      "source": [
        "### 5. Is there a difference in size of families in different regions (coasts)?"
      ]
    },
    {
      "cell_type": "markdown",
      "metadata": {
        "id": "AjCSZWWydp8c"
      },
      "source": [
        "- H0: There is no difference in proportion of large families in different regions\n",
        "- H1: There is a difference in proportion of large families in different regions\n",
        "\n",
        "Note: There are 4 levels of 'region'. This means the crosstab table would be 4 rows by 2 columns. For simplicity sake\n",
        "  we decided to transform 'region' to boolean value of 'is_west_coast' (North West and South West == True, North East and South East == False) in order to perform chi-squared test."
      ]
    },
    {
      "cell_type": "code",
      "metadata": {
        "id": "dUYbWuwTePTO",
        "colab": {
          "base_uri": "https://localhost:8080/"
        },
        "outputId": "cce746af-72ac-44f3-db78-dff75330b7f0"
      },
      "source": [
        "insurance_df['region'].value_counts()"
      ],
      "execution_count": null,
      "outputs": [
        {
          "output_type": "execute_result",
          "data": {
            "text/plain": [
              "southeast    363\n",
              "southwest    323\n",
              "northwest    322\n",
              "northeast    321\n",
              "Name: region, dtype: int64"
            ]
          },
          "metadata": {
            "tags": []
          },
          "execution_count": 113
        }
      ]
    },
    {
      "cell_type": "code",
      "metadata": {
        "id": "oil-Eb4Lef20",
        "colab": {
          "base_uri": "https://localhost:8080/"
        },
        "outputId": "4fa610b2-36c7-406f-a5d3-388eaf3e1330"
      },
      "source": [
        "insurance_df['is_west_coast'] = (insurance_df['region'] == 'northwest') | (insurance_df['region'] == 'southwest')\n",
        "insurance_df['is_west_coast'].value_counts()"
      ],
      "execution_count": null,
      "outputs": [
        {
          "output_type": "execute_result",
          "data": {
            "text/plain": [
              "False    684\n",
              "True     645\n",
              "Name: is_west_coast, dtype: int64"
            ]
          },
          "metadata": {
            "tags": []
          },
          "execution_count": 114
        }
      ]
    },
    {
      "cell_type": "code",
      "metadata": {
        "id": "zXtSJBJUgbRR",
        "colab": {
          "base_uri": "https://localhost:8080/",
          "height": 204
        },
        "outputId": "973d1ba1-1f28-4428-9b3f-f698ac165a7f"
      },
      "source": [
        "insurance_df.head()"
      ],
      "execution_count": null,
      "outputs": [
        {
          "output_type": "execute_result",
          "data": {
            "text/html": [
              "<div>\n",
              "<style scoped>\n",
              "    .dataframe tbody tr th:only-of-type {\n",
              "        vertical-align: middle;\n",
              "    }\n",
              "\n",
              "    .dataframe tbody tr th {\n",
              "        vertical-align: top;\n",
              "    }\n",
              "\n",
              "    .dataframe thead th {\n",
              "        text-align: right;\n",
              "    }\n",
              "</style>\n",
              "<table border=\"1\" class=\"dataframe\">\n",
              "  <thead>\n",
              "    <tr style=\"text-align: right;\">\n",
              "      <th></th>\n",
              "      <th>age</th>\n",
              "      <th>sex</th>\n",
              "      <th>bmi</th>\n",
              "      <th>children</th>\n",
              "      <th>smoker</th>\n",
              "      <th>region</th>\n",
              "      <th>charges</th>\n",
              "      <th>is_large_family</th>\n",
              "      <th>is_west_coast</th>\n",
              "    </tr>\n",
              "  </thead>\n",
              "  <tbody>\n",
              "    <tr>\n",
              "      <th>0</th>\n",
              "      <td>19</td>\n",
              "      <td>female</td>\n",
              "      <td>27.900</td>\n",
              "      <td>0</td>\n",
              "      <td>yes</td>\n",
              "      <td>southwest</td>\n",
              "      <td>16884.92400</td>\n",
              "      <td>False</td>\n",
              "      <td>True</td>\n",
              "    </tr>\n",
              "    <tr>\n",
              "      <th>1</th>\n",
              "      <td>18</td>\n",
              "      <td>male</td>\n",
              "      <td>33.770</td>\n",
              "      <td>1</td>\n",
              "      <td>no</td>\n",
              "      <td>southeast</td>\n",
              "      <td>1725.55230</td>\n",
              "      <td>False</td>\n",
              "      <td>False</td>\n",
              "    </tr>\n",
              "    <tr>\n",
              "      <th>2</th>\n",
              "      <td>28</td>\n",
              "      <td>male</td>\n",
              "      <td>33.000</td>\n",
              "      <td>3</td>\n",
              "      <td>no</td>\n",
              "      <td>southeast</td>\n",
              "      <td>4449.46200</td>\n",
              "      <td>True</td>\n",
              "      <td>False</td>\n",
              "    </tr>\n",
              "    <tr>\n",
              "      <th>3</th>\n",
              "      <td>33</td>\n",
              "      <td>male</td>\n",
              "      <td>22.705</td>\n",
              "      <td>0</td>\n",
              "      <td>no</td>\n",
              "      <td>northwest</td>\n",
              "      <td>21984.47061</td>\n",
              "      <td>False</td>\n",
              "      <td>True</td>\n",
              "    </tr>\n",
              "    <tr>\n",
              "      <th>4</th>\n",
              "      <td>32</td>\n",
              "      <td>male</td>\n",
              "      <td>28.880</td>\n",
              "      <td>0</td>\n",
              "      <td>no</td>\n",
              "      <td>northwest</td>\n",
              "      <td>3866.85520</td>\n",
              "      <td>False</td>\n",
              "      <td>True</td>\n",
              "    </tr>\n",
              "  </tbody>\n",
              "</table>\n",
              "</div>"
            ],
            "text/plain": [
              "   age     sex     bmi  ...      charges is_large_family is_west_coast\n",
              "0   19  female  27.900  ...  16884.92400           False          True\n",
              "1   18    male  33.770  ...   1725.55230           False         False\n",
              "2   28    male  33.000  ...   4449.46200            True         False\n",
              "3   33    male  22.705  ...  21984.47061           False          True\n",
              "4   32    male  28.880  ...   3866.85520           False          True\n",
              "\n",
              "[5 rows x 9 columns]"
            ]
          },
          "metadata": {
            "tags": []
          },
          "execution_count": 115
        }
      ]
    },
    {
      "cell_type": "code",
      "metadata": {
        "id": "Zt1NJK6ugM6j",
        "colab": {
          "base_uri": "https://localhost:8080/",
          "height": 173
        },
        "outputId": "2cce8e61-8ac4-478e-d351-881ffb365412"
      },
      "source": [
        "cross_df2 = pd.crosstab(insurance_df['is_large_family'], insurance_df['is_west_coast'], margins=True, margins_name='Total')\n",
        "cross_df2"
      ],
      "execution_count": null,
      "outputs": [
        {
          "output_type": "execute_result",
          "data": {
            "text/html": [
              "<div>\n",
              "<style scoped>\n",
              "    .dataframe tbody tr th:only-of-type {\n",
              "        vertical-align: middle;\n",
              "    }\n",
              "\n",
              "    .dataframe tbody tr th {\n",
              "        vertical-align: top;\n",
              "    }\n",
              "\n",
              "    .dataframe thead th {\n",
              "        text-align: right;\n",
              "    }\n",
              "</style>\n",
              "<table border=\"1\" class=\"dataframe\">\n",
              "  <thead>\n",
              "    <tr style=\"text-align: right;\">\n",
              "      <th>is_west_coast</th>\n",
              "      <th>False</th>\n",
              "      <th>True</th>\n",
              "      <th>Total</th>\n",
              "    </tr>\n",
              "    <tr>\n",
              "      <th>is_large_family</th>\n",
              "      <th></th>\n",
              "      <th></th>\n",
              "      <th></th>\n",
              "    </tr>\n",
              "  </thead>\n",
              "  <tbody>\n",
              "    <tr>\n",
              "      <th>False</th>\n",
              "      <td>476</td>\n",
              "      <td>421</td>\n",
              "      <td>897</td>\n",
              "    </tr>\n",
              "    <tr>\n",
              "      <th>True</th>\n",
              "      <td>208</td>\n",
              "      <td>224</td>\n",
              "      <td>432</td>\n",
              "    </tr>\n",
              "    <tr>\n",
              "      <th>Total</th>\n",
              "      <td>684</td>\n",
              "      <td>645</td>\n",
              "      <td>1329</td>\n",
              "    </tr>\n",
              "  </tbody>\n",
              "</table>\n",
              "</div>"
            ],
            "text/plain": [
              "is_west_coast    False  True  Total\n",
              "is_large_family                    \n",
              "False              476   421    897\n",
              "True               208   224    432\n",
              "Total              684   645   1329"
            ]
          },
          "metadata": {
            "tags": []
          },
          "execution_count": 116
        }
      ]
    },
    {
      "cell_type": "markdown",
      "metadata": {
        "id": "E6l6QvljlA2c"
      },
      "source": [
        "#### Observed values"
      ]
    },
    {
      "cell_type": "code",
      "metadata": {
        "id": "el7EOWq5lJAO",
        "colab": {
          "base_uri": "https://localhost:8080/"
        },
        "outputId": "aa2a672e-f9c3-4ccf-d1ad-23a2530fd45b"
      },
      "source": [
        "O11 = cross_df2.iloc[0,0]\n",
        "O12 = cross_df2.iloc[0,1]\n",
        "O21 = cross_df2.iloc[1,0]\n",
        "O22 = cross_df2.iloc[1,1]\n",
        "\n",
        "print(f'Observed value of east-coast small-family : {O11}')\n",
        "print(f'Observed value of west-coast small-family: {O12}')\n",
        "print(f'Observed value of east-coast large-family: {O21}')\n",
        "print(f'Observed value of west-coast large-family: {O22}')"
      ],
      "execution_count": null,
      "outputs": [
        {
          "output_type": "stream",
          "text": [
            "Observed value of east-coast small-family : 476\n",
            "Observed value of west-coast small-family: 421\n",
            "Observed value of east-coast large-family: 208\n",
            "Observed value of west-coast large-family: 224\n"
          ],
          "name": "stdout"
        }
      ]
    },
    {
      "cell_type": "markdown",
      "metadata": {
        "id": "LDnOmcxMmNzr"
      },
      "source": [
        "#### Observed values - totals "
      ]
    },
    {
      "cell_type": "code",
      "metadata": {
        "id": "YEJOPJ8BmKDU",
        "colab": {
          "base_uri": "https://localhost:8080/"
        },
        "outputId": "2c64bbf4-660e-4753-94e7-4923f949d9a0"
      },
      "source": [
        "total_population = cross_df2.iloc[2,2]\n",
        "total_small_family = cross_df2.iloc[0,2]\n",
        "total_large_family = cross_df2.iloc[1,2]\n",
        "total_east_coast = cross_df2.iloc[2,0]\n",
        "total_west_coast = cross_df2.iloc[2,1]\n",
        "\n",
        "print(f'total population: {total_population}')\n",
        "print(f'total small family: {total_small_family}')\n",
        "print(f'total large family: {total_large_family}')\n",
        "print(f'total east coast: {total_east_coast}')\n",
        "print(f'total west coast: {total_west_coast}')"
      ],
      "execution_count": null,
      "outputs": [
        {
          "output_type": "stream",
          "text": [
            "total population: 1329\n",
            "total small family: 897\n",
            "total large family: 432\n",
            "total east coast: 684\n",
            "total west coast: 645\n"
          ],
          "name": "stdout"
        }
      ]
    },
    {
      "cell_type": "markdown",
      "metadata": {
        "id": "ci1_jbYookcj"
      },
      "source": [
        "#### Expected values"
      ]
    },
    {
      "cell_type": "code",
      "metadata": {
        "id": "onHJ2fgKorTt",
        "colab": {
          "base_uri": "https://localhost:8080/"
        },
        "outputId": "1f84cc64-7baf-46bd-e6d2-b7d52e5fde63"
      },
      "source": [
        "#E11 = expected value of is_large_family=no and is_west_coast=no\n",
        "#E12 = expected value of is_large_family=no and is_west_coast=yes\n",
        "#E21 = expected value of is_large_family=yes and is_west_coast=no\n",
        "#E22 = expected value of is_large_family=yes and is_west_coast=yes\n",
        "\n",
        "E11 = total_small_family*(total_east_coast/total_population)\n",
        "print(f'expected value of east coast small family is {E11}')\n",
        "\n",
        "E12 = total_small_family*(total_west_coast/total_population)\n",
        "print(f'expected value of west coast small family is {E12}')\n",
        "\n",
        "E21 = total_large_family*(total_east_coast/total_population)\n",
        "print(f'expected value of east coast large family is {E21}')\n",
        "\n",
        "E22 = total_large_family*(total_west_coast/total_population)\n",
        "print(f'expected value of west coast large family is {E22}')\n",
        "\n",
        "#chi-square = summation((observed-expected)^2/expected)\n",
        "\n",
        "chiE11 = np.square(O11-E11)/E11\n",
        "print(f'chiE11 is {chiE11}')\n",
        "\n",
        "chiE12 = np.square(O12-E12)/E12\n",
        "print(f'chiE12 is {chiE12}')\n",
        "\n",
        "chiE21 = np.square(O21-E21)/E21\n",
        "print(f'chiE21 is {chiE21}')\n",
        "\n",
        "chiE22 = np.square(O22-E22)/E22\n",
        "print(f'chiE22 is {chiE22}')\n",
        "\n",
        "chisquare = chiE11 + chiE12 + chiE21 + chiE22\n",
        "print(f'chi-square value is {chisquare}')"
      ],
      "execution_count": null,
      "outputs": [
        {
          "output_type": "stream",
          "text": [
            "expected value of east coast small family is 461.66139954853276\n",
            "expected value of west coast small family is 435.33860045146724\n",
            "expected value of east coast large family is 222.33860045146727\n",
            "expected value of west coast large family is 209.66139954853273\n",
            "chiE11 is 0.4453382134782597\n",
            "chiE12 is 0.47226564033973595\n",
            "chiE21 is 0.9246953182638903\n",
            "chiE22 is 0.9806071282054278\n",
            "chi-square value is 2.822906300287314\n"
          ],
          "name": "stdout"
        }
      ]
    },
    {
      "cell_type": "markdown",
      "metadata": {
        "id": "aD5jZoF8rOX_"
      },
      "source": [
        "#### Compute chi-square critical value"
      ]
    },
    {
      "cell_type": "code",
      "metadata": {
        "id": "vbUBEuEarWCD",
        "colab": {
          "base_uri": "https://localhost:8080/"
        },
        "outputId": "4d0981f1-7f99-4e74-9fd0-74042709a152"
      },
      "source": [
        "alpha = 0.05\n",
        "significance_level = 1 - alpha\n",
        "deg_of_freedom = (2-1) * (2 -1)\n",
        "chi2_critical_value = stats.chi2.ppf(significance_level, deg_of_freedom)\n",
        "\n",
        "print(f'alpha is {alpha}, therefore significance level (confidence level) is {significance_level}')\n",
        "print(f'degree of freedom is {deg_of_freedom}')\n",
        "print(f'chi square critical value is {chi2_critical_value}')\n",
        "\n",
        "if chisquare < chi2_critical_value:\n",
        "    print(f'chi square value {chisquare} is smaller than critical value, therefore we stay with H0: there is no difference in proportion of large families in different regions')\n",
        "else:\n",
        "    print(f'chi square value {chisquare} is larger than critical value, therefore we reject H0 and accept H1: there is a difference in proportion of large families in different regions')"
      ],
      "execution_count": null,
      "outputs": [
        {
          "output_type": "stream",
          "text": [
            "alpha is 0.05, therefore significance level (confidence level) is 0.95\n",
            "degree of freedom is 1\n",
            "chi square critical value is 3.841458820694124\n",
            "chi square value 2.822906300287314 is smaller than critical value, therefore we stay with H0: there is no difference in proportion of large families in different regions\n"
          ],
          "name": "stdout"
        }
      ]
    },
    {
      "cell_type": "markdown",
      "metadata": {
        "id": "ldZeJnsbzPBn"
      },
      "source": [
        "# Conclusions"
      ]
    },
    {
      "cell_type": "markdown",
      "metadata": {
        "id": "1-KjVUffzPjA"
      },
      "source": [
        "#### T-tests\n",
        "\n",
        "1. Does smoking influence charges? Yes (reject H0) (smokers have increased charges)\n",
        "2. Does number of children influence charges? Yes (reject H0) (larger famlilies have increased charges)\n",
        "3. Does gender influence bmi? No (accept H0)"
      ]
    },
    {
      "cell_type": "markdown",
      "metadata": {
        "id": "GlvsKJMsz2s6"
      },
      "source": [
        "#### Chi-square tests\n",
        "\n",
        "4. Is there a difference in proportion of smokers in different genders? Yes (reject H0) (males smoke more than females)\n",
        "5. Is there a difference in size of families in different regions (coasts)? No (accept H0)"
      ]
    },
    {
      "cell_type": "markdown",
      "metadata": {
        "id": "N3phlPEYUpG_"
      },
      "source": [
        "# Thank you for making it till here :) We hope you've enjoyed!"
      ]
    }
  ]
}